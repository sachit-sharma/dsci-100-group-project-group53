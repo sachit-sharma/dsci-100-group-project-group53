{
 "cells": [
  {
   "cell_type": "markdown",
   "id": "112a02af-6ef5-4210-baca-8936fc1a353a",
   "metadata": {},
   "source": [
    "## Predicting Heart Disease"
   ]
  },
  {
   "cell_type": "markdown",
   "id": "2b7649d9-bac6-41b8-8451-eff4f69e33f9",
   "metadata": {},
   "source": [
    "### Introduction:\n",
    "\n"
   ]
  },
  {
   "cell_type": "markdown",
   "id": "6945f447-534e-469b-a1bd-f2ade39cb1c9",
   "metadata": {},
   "source": [
    "According to the CDC, one person dies every 33 seconds from heart disease in the United States. Heart disease is a condition that affects the heart and blood vessels.Though there is no definite cure, it is possible to alleviate symptoms and prevent the condition from worsening and becoming fatal via lifestyle changes and medications. The question we will be answering is: Can we predict the severity of heart disease in a patient based on health measurements taken in the hospital? We will be using the “Heart Disease'' dataset from the UC Irvine Machine Learning Repository which provides health and lifestyle characteristics of patients, and whether the patient is diagnosed with heart disease as well as its severity, ranging from 0 (no presence) to 4. \n",
    "\n",
    "**Predictive Question**: Can we predict the severity of heart disease in a patient based on health measurments taken in the hospital?\n",
    "\n",
    "**Dataset**: Heart Disease Dataset. It has 14 variables:\n",
    "\n",
    "- Age: Years\n",
    "- Sex : 1 = male , 0 = female\n",
    "- cp :  chest pain type\n",
    "- trestbps : resting blood pressure (mm Hg)\n",
    "- chol :  serum cholesterol (mg/dl)\n",
    "- fbs :   fasting blood sugar   ( 1: fbs >120mg/dl, 0 : fbx <120 mg/dl)\n",
    "- Restecg : resting electrocardiographic results\n",
    "- Thalach : maximum heart rate achieved\n",
    "- exang :  exercise induced angina \n",
    "- Oldpeak : ST depression induced by exercise relative to rest\n",
    "- Slope : slope of the peak exercise ST segment ( 1: upsloping, 2: flat,  downsloping)\n",
    "- ca :   number of major vessels (0-3) colored by fluoroscopy\n",
    "- Thal : normal, fixed defect, reversible defect\n",
    "- Num :  Level of heart disease \n",
    "\n",
    "Other characteristics:\n",
    "There is some missing data in the dataset. \n"
   ]
  },
  {
   "cell_type": "markdown",
   "id": "48b13d9e-bb9e-4f53-99a2-51d2ba6a0526",
   "metadata": {},
   "source": [
    "### Preliminary Exploratory Data Analysis:"
   ]
  },
  {
   "cell_type": "code",
   "execution_count": 1,
   "id": "c7e89dc5-7f5a-4610-9b4a-606b5fe723da",
   "metadata": {},
   "outputs": [
    {
     "name": "stderr",
     "output_type": "stream",
     "text": [
      "── \u001b[1mAttaching packages\u001b[22m ─────────────────────────────────────── tidyverse 1.3.1 ──\n",
      "\n",
      "\u001b[32m✔\u001b[39m \u001b[34mggplot2\u001b[39m 3.3.6     \u001b[32m✔\u001b[39m \u001b[34mpurrr  \u001b[39m 0.3.4\n",
      "\u001b[32m✔\u001b[39m \u001b[34mtibble \u001b[39m 3.1.7     \u001b[32m✔\u001b[39m \u001b[34mdplyr  \u001b[39m 1.0.9\n",
      "\u001b[32m✔\u001b[39m \u001b[34mtidyr  \u001b[39m 1.2.0     \u001b[32m✔\u001b[39m \u001b[34mstringr\u001b[39m 1.4.0\n",
      "\u001b[32m✔\u001b[39m \u001b[34mreadr  \u001b[39m 2.1.2     \u001b[32m✔\u001b[39m \u001b[34mforcats\u001b[39m 0.5.1\n",
      "\n",
      "── \u001b[1mConflicts\u001b[22m ────────────────────────────────────────── tidyverse_conflicts() ──\n",
      "\u001b[31m✖\u001b[39m \u001b[34mdplyr\u001b[39m::\u001b[32mfilter()\u001b[39m masks \u001b[34mstats\u001b[39m::filter()\n",
      "\u001b[31m✖\u001b[39m \u001b[34mdplyr\u001b[39m::\u001b[32mlag()\u001b[39m    masks \u001b[34mstats\u001b[39m::lag()\n",
      "\n",
      "── \u001b[1mAttaching packages\u001b[22m ────────────────────────────────────── tidymodels 1.0.0 ──\n",
      "\n",
      "\u001b[32m✔\u001b[39m \u001b[34mbroom       \u001b[39m 1.0.0     \u001b[32m✔\u001b[39m \u001b[34mrsample     \u001b[39m 1.0.0\n",
      "\u001b[32m✔\u001b[39m \u001b[34mdials       \u001b[39m 1.0.0     \u001b[32m✔\u001b[39m \u001b[34mtune        \u001b[39m 1.0.0\n",
      "\u001b[32m✔\u001b[39m \u001b[34minfer       \u001b[39m 1.0.2     \u001b[32m✔\u001b[39m \u001b[34mworkflows   \u001b[39m 1.0.0\n",
      "\u001b[32m✔\u001b[39m \u001b[34mmodeldata   \u001b[39m 1.0.0     \u001b[32m✔\u001b[39m \u001b[34mworkflowsets\u001b[39m 1.0.0\n",
      "\u001b[32m✔\u001b[39m \u001b[34mparsnip     \u001b[39m 1.0.0     \u001b[32m✔\u001b[39m \u001b[34myardstick   \u001b[39m 1.0.0\n",
      "\u001b[32m✔\u001b[39m \u001b[34mrecipes     \u001b[39m 1.0.1     \n",
      "\n",
      "── \u001b[1mConflicts\u001b[22m ───────────────────────────────────────── tidymodels_conflicts() ──\n",
      "\u001b[31m✖\u001b[39m \u001b[34mscales\u001b[39m::\u001b[32mdiscard()\u001b[39m masks \u001b[34mpurrr\u001b[39m::discard()\n",
      "\u001b[31m✖\u001b[39m \u001b[34mdplyr\u001b[39m::\u001b[32mfilter()\u001b[39m   masks \u001b[34mstats\u001b[39m::filter()\n",
      "\u001b[31m✖\u001b[39m \u001b[34mrecipes\u001b[39m::\u001b[32mfixed()\u001b[39m  masks \u001b[34mstringr\u001b[39m::fixed()\n",
      "\u001b[31m✖\u001b[39m \u001b[34mdplyr\u001b[39m::\u001b[32mlag()\u001b[39m      masks \u001b[34mstats\u001b[39m::lag()\n",
      "\u001b[31m✖\u001b[39m \u001b[34myardstick\u001b[39m::\u001b[32mspec()\u001b[39m masks \u001b[34mreadr\u001b[39m::spec()\n",
      "\u001b[31m✖\u001b[39m \u001b[34mrecipes\u001b[39m::\u001b[32mstep()\u001b[39m   masks \u001b[34mstats\u001b[39m::step()\n",
      "\u001b[34m•\u001b[39m Learn how to get started at \u001b[32mhttps://www.tidymodels.org/start/\u001b[39m\n",
      "\n"
     ]
    }
   ],
   "source": [
    "### Loading the relevant libraries\n",
    "library(tidyverse)\n",
    "library(repr)\n",
    "library(tidymodels)\n",
    "library(cowplot)\n",
    "\n",
    "set.seed(1234)"
   ]
  },
  {
   "cell_type": "code",
   "execution_count": 2,
   "id": "3fca2fce-7b5f-4629-a3c7-4fb49ede46cf",
   "metadata": {
    "vscode": {
     "languageId": "r"
    }
   },
   "outputs": [
    {
     "name": "stderr",
     "output_type": "stream",
     "text": [
      "\u001b[1mRows: \u001b[22m\u001b[34m626\u001b[39m \u001b[1mColumns: \u001b[22m\u001b[34m14\u001b[39m\n",
      "\u001b[36m──\u001b[39m \u001b[1mColumn specification\u001b[22m \u001b[36m────────────────────────────────────────────────────────\u001b[39m\n",
      "\u001b[1mDelimiter:\u001b[22m \",\"\n",
      "\u001b[31mchr\u001b[39m (10): trestbps, chol, fbs, restecg, thalach, exang, oldspeak, slope, ca,...\n",
      "\u001b[32mdbl\u001b[39m  (4): age, sex, cp, num\n",
      "\n",
      "\u001b[36mℹ\u001b[39m Use `spec()` to retrieve the full column specification for this data.\n",
      "\u001b[36mℹ\u001b[39m Specify the column types or set `show_col_types = FALSE` to quiet this message.\n",
      "Warning message in mask$eval_all_mutate(quo):\n",
      "“NAs introduced by coercion”\n",
      "Warning message in mask$eval_all_mutate(quo):\n",
      "“NAs introduced by coercion”\n",
      "Warning message in mask$eval_all_mutate(quo):\n",
      "“NAs introduced by coercion”\n"
     ]
    },
    {
     "data": {
      "text/html": [
       "<table class=\"dataframe\">\n",
       "<caption>A tibble: 6 × 14</caption>\n",
       "<thead>\n",
       "\t<tr><th scope=col>age</th><th scope=col>sex</th><th scope=col>cp</th><th scope=col>trestbps</th><th scope=col>chol</th><th scope=col>fbs</th><th scope=col>restecg</th><th scope=col>thalach</th><th scope=col>exang</th><th scope=col>oldspeak</th><th scope=col>slope</th><th scope=col>ca</th><th scope=col>thal</th><th scope=col>class</th></tr>\n",
       "\t<tr><th scope=col>&lt;dbl&gt;</th><th scope=col>&lt;fct&gt;</th><th scope=col>&lt;fct&gt;</th><th scope=col>&lt;dbl&gt;</th><th scope=col>&lt;dbl&gt;</th><th scope=col>&lt;fct&gt;</th><th scope=col>&lt;fct&gt;</th><th scope=col>&lt;dbl&gt;</th><th scope=col>&lt;fct&gt;</th><th scope=col>&lt;chr&gt;</th><th scope=col>&lt;dbl&gt;</th><th scope=col>&lt;fct&gt;</th><th scope=col>&lt;fct&gt;</th><th scope=col>&lt;fct&gt;</th></tr>\n",
       "</thead>\n",
       "<tbody>\n",
       "\t<tr><td>63</td><td>1</td><td>1</td><td>145</td><td>145</td><td>1.0</td><td>2.0</td><td>150</td><td>0.0</td><td>2.3</td><td>3</td><td>0.0</td><td>6.0</td><td>0</td></tr>\n",
       "\t<tr><td>67</td><td>1</td><td>4</td><td>160</td><td>160</td><td>0.0</td><td>2.0</td><td>108</td><td>1.0</td><td>1.5</td><td>2</td><td>3.0</td><td>3.0</td><td>2</td></tr>\n",
       "\t<tr><td>67</td><td>1</td><td>4</td><td>120</td><td>120</td><td>0.0</td><td>2.0</td><td>129</td><td>1.0</td><td>2.6</td><td>2</td><td>2.0</td><td>7.0</td><td>1</td></tr>\n",
       "\t<tr><td>37</td><td>1</td><td>3</td><td>130</td><td>130</td><td>0.0</td><td>0.0</td><td>187</td><td>0.0</td><td>3.5</td><td>3</td><td>0.0</td><td>3.0</td><td>0</td></tr>\n",
       "\t<tr><td>41</td><td>0</td><td>2</td><td>130</td><td>130</td><td>0.0</td><td>2.0</td><td>172</td><td>0.0</td><td>1.4</td><td>1</td><td>0.0</td><td>3.0</td><td>0</td></tr>\n",
       "\t<tr><td>56</td><td>1</td><td>2</td><td>120</td><td>120</td><td>0.0</td><td>0.0</td><td>178</td><td>0.0</td><td>0.8</td><td>1</td><td>0.0</td><td>3.0</td><td>0</td></tr>\n",
       "</tbody>\n",
       "</table>\n"
      ],
      "text/latex": [
       "A tibble: 6 × 14\n",
       "\\begin{tabular}{llllllllllllll}\n",
       " age & sex & cp & trestbps & chol & fbs & restecg & thalach & exang & oldspeak & slope & ca & thal & class\\\\\n",
       " <dbl> & <fct> & <fct> & <dbl> & <dbl> & <fct> & <fct> & <dbl> & <fct> & <chr> & <dbl> & <fct> & <fct> & <fct>\\\\\n",
       "\\hline\n",
       "\t 63 & 1 & 1 & 145 & 145 & 1.0 & 2.0 & 150 & 0.0 & 2.3 & 3 & 0.0 & 6.0 & 0\\\\\n",
       "\t 67 & 1 & 4 & 160 & 160 & 0.0 & 2.0 & 108 & 1.0 & 1.5 & 2 & 3.0 & 3.0 & 2\\\\\n",
       "\t 67 & 1 & 4 & 120 & 120 & 0.0 & 2.0 & 129 & 1.0 & 2.6 & 2 & 2.0 & 7.0 & 1\\\\\n",
       "\t 37 & 1 & 3 & 130 & 130 & 0.0 & 0.0 & 187 & 0.0 & 3.5 & 3 & 0.0 & 3.0 & 0\\\\\n",
       "\t 41 & 0 & 2 & 130 & 130 & 0.0 & 2.0 & 172 & 0.0 & 1.4 & 1 & 0.0 & 3.0 & 0\\\\\n",
       "\t 56 & 1 & 2 & 120 & 120 & 0.0 & 0.0 & 178 & 0.0 & 0.8 & 1 & 0.0 & 3.0 & 0\\\\\n",
       "\\end{tabular}\n"
      ],
      "text/markdown": [
       "\n",
       "A tibble: 6 × 14\n",
       "\n",
       "| age &lt;dbl&gt; | sex &lt;fct&gt; | cp &lt;fct&gt; | trestbps &lt;dbl&gt; | chol &lt;dbl&gt; | fbs &lt;fct&gt; | restecg &lt;fct&gt; | thalach &lt;dbl&gt; | exang &lt;fct&gt; | oldspeak &lt;chr&gt; | slope &lt;dbl&gt; | ca &lt;fct&gt; | thal &lt;fct&gt; | class &lt;fct&gt; |\n",
       "|---|---|---|---|---|---|---|---|---|---|---|---|---|---|\n",
       "| 63 | 1 | 1 | 145 | 145 | 1.0 | 2.0 | 150 | 0.0 | 2.3 | 3 | 0.0 | 6.0 | 0 |\n",
       "| 67 | 1 | 4 | 160 | 160 | 0.0 | 2.0 | 108 | 1.0 | 1.5 | 2 | 3.0 | 3.0 | 2 |\n",
       "| 67 | 1 | 4 | 120 | 120 | 0.0 | 2.0 | 129 | 1.0 | 2.6 | 2 | 2.0 | 7.0 | 1 |\n",
       "| 37 | 1 | 3 | 130 | 130 | 0.0 | 0.0 | 187 | 0.0 | 3.5 | 3 | 0.0 | 3.0 | 0 |\n",
       "| 41 | 0 | 2 | 130 | 130 | 0.0 | 2.0 | 172 | 0.0 | 1.4 | 1 | 0.0 | 3.0 | 0 |\n",
       "| 56 | 1 | 2 | 120 | 120 | 0.0 | 0.0 | 178 | 0.0 | 0.8 | 1 | 0.0 | 3.0 | 0 |\n",
       "\n"
      ],
      "text/plain": [
       "  age sex cp trestbps chol fbs restecg thalach exang oldspeak slope ca  thal\n",
       "1 63  1   1  145      145  1.0 2.0     150     0.0   2.3      3     0.0 6.0 \n",
       "2 67  1   4  160      160  0.0 2.0     108     1.0   1.5      2     3.0 3.0 \n",
       "3 67  1   4  120      120  0.0 2.0     129     1.0   2.6      2     2.0 7.0 \n",
       "4 37  1   3  130      130  0.0 0.0     187     0.0   3.5      3     0.0 3.0 \n",
       "5 41  0   2  130      130  0.0 2.0     172     0.0   1.4      1     0.0 3.0 \n",
       "6 56  1   2  120      120  0.0 0.0     178     0.0   0.8      1     0.0 3.0 \n",
       "  class\n",
       "1 0    \n",
       "2 2    \n",
       "3 1    \n",
       "4 0    \n",
       "5 0    \n",
       "6 0    "
      ]
     },
     "metadata": {},
     "output_type": "display_data"
    }
   ],
   "source": [
    "#Reading the data from Github\n",
    "\n",
    "#URl of the raw clevland.data file \n",
    "url <- \"https://raw.githubusercontent.com/sachit-sharma/dsci-100-group-project-group53/main/processed.cleveland.data\"\n",
    "column_names <- c(\"age\", \"sex\", \"cp\", \"trestbps\", \"chol\", \"fbs\", \"restecg\", \"thalach\", \"exang\", \"oldspeak\", \"slope\", \"ca\", \"thal\", \"num\")\n",
    "\n",
    "heart_disease_data <- read_csv(url, col_names = column_names) |>\n",
    "                       mutate (sex = as.factor(sex), \n",
    "                              thal = as.factor(thal), \n",
    "                              num = as.factor(num), \n",
    "                              cp = as.factor(cp), \n",
    "                              fbs = as.factor(fbs), \n",
    "                              restecg = as.factor(restecg), \n",
    "                              exang = as.factor(exang), \n",
    "                              ca = as.factor(ca),\n",
    "                              slope = as.numeric(slope), \n",
    "                               trestbps = as.numeric(trestbps), \n",
    "                               chol = as.numeric(trestbps), \n",
    "                               thalach = as.numeric(thalach))|>\n",
    "                               rename(class = num)\n",
    "#Changing all ? to NA\n",
    "heart_disease_data[ heart_disease_data == \"?\"] <- NA \n",
    "\n",
    "#Removing all nas for the predictors\n",
    "heart_disease_data <- heart_disease_data |>\n",
    "                      filter(!is.na(age), !is.na(thalach), !is.na(chol), !is.na(trestbps))\n",
    "\n",
    "\n",
    "#Splitting the data into training and testing\n",
    "heart_disease_split <- initial_split(heart_disease_data, prop = 0.75, strata = class)\n",
    "heart_disease_train <- training(heart_disease_split)\n",
    "heart_disease_test <- testing(heart_disease_split)\n",
    "\n",
    "head(heart_disease_data)"
   ]
  },
  {
   "cell_type": "code",
   "execution_count": 3,
   "id": "60fcd389-a10d-4c66-9d4e-ab653653e233",
   "metadata": {
    "vscode": {
     "languageId": "r"
    }
   },
   "outputs": [
    {
     "data": {
      "text/html": [
       "<table class=\"dataframe\">\n",
       "<caption>A tibble: 1 × 4</caption>\n",
       "<thead>\n",
       "\t<tr><th scope=col>age</th><th scope=col>trestbps</th><th scope=col>chol</th><th scope=col>thalach</th></tr>\n",
       "\t<tr><th scope=col>&lt;dbl&gt;</th><th scope=col>&lt;dbl&gt;</th><th scope=col>&lt;dbl&gt;</th><th scope=col>&lt;dbl&gt;</th></tr>\n",
       "</thead>\n",
       "<tbody>\n",
       "\t<tr><td>56.17412</td><td>132.2965</td><td>132.2965</td><td>136.12</td></tr>\n",
       "</tbody>\n",
       "</table>\n"
      ],
      "text/latex": [
       "A tibble: 1 × 4\n",
       "\\begin{tabular}{llll}\n",
       " age & trestbps & chol & thalach\\\\\n",
       " <dbl> & <dbl> & <dbl> & <dbl>\\\\\n",
       "\\hline\n",
       "\t 56.17412 & 132.2965 & 132.2965 & 136.12\\\\\n",
       "\\end{tabular}\n"
      ],
      "text/markdown": [
       "\n",
       "A tibble: 1 × 4\n",
       "\n",
       "| age &lt;dbl&gt; | trestbps &lt;dbl&gt; | chol &lt;dbl&gt; | thalach &lt;dbl&gt; |\n",
       "|---|---|---|---|\n",
       "| 56.17412 | 132.2965 | 132.2965 | 136.12 |\n",
       "\n"
      ],
      "text/plain": [
       "  age      trestbps chol     thalach\n",
       "1 56.17412 132.2965 132.2965 136.12 "
      ]
     },
     "metadata": {},
     "output_type": "display_data"
    }
   ],
   "source": [
    "#Calculating the mean value of the predictors \n",
    "\n",
    "heart_disease_select <-  heart_disease_train |>\n",
    "                         select(age, trestbps, chol, thalach)\n",
    "\n",
    "mean_values <- heart_disease_select |>\n",
    "               map_df(mean, na.rm = TRUE)\n",
    "mean_values"
   ]
  },
  {
   "cell_type": "markdown",
   "id": "31fdceac-5b9b-479b-9fdc-1b721af53247",
   "metadata": {},
   "source": [
    "The mean value of the predictors we are using are:\n",
    "\n",
    "- Age : 56.3\n",
    "- Tresbps (Resting Blood Pressure) : 131 mm of Hg\n",
    "- Serum Cholestrol :131.62 mg/dl\n",
    "- Thalach (Maximum Heart Rate) : 136.7 bpm"
   ]
  },
  {
   "cell_type": "code",
   "execution_count": 4,
   "id": "e3f75236-7aa2-4e46-b7de-482ed4d18638",
   "metadata": {
    "vscode": {
     "languageId": "r"
    }
   },
   "outputs": [
    {
     "data": {
      "text/html": [
       "<table class=\"dataframe\">\n",
       "<caption>A tibble: 1 × 4</caption>\n",
       "<thead>\n",
       "\t<tr><th scope=col>age</th><th scope=col>trestbps</th><th scope=col>chol</th><th scope=col>thalach</th></tr>\n",
       "\t<tr><th scope=col>&lt;dbl&gt;</th><th scope=col>&lt;dbl&gt;</th><th scope=col>&lt;dbl&gt;</th><th scope=col>&lt;dbl&gt;</th></tr>\n",
       "</thead>\n",
       "<tbody>\n",
       "\t<tr><td>77</td><td>200</td><td>200</td><td>202</td></tr>\n",
       "</tbody>\n",
       "</table>\n"
      ],
      "text/latex": [
       "A tibble: 1 × 4\n",
       "\\begin{tabular}{llll}\n",
       " age & trestbps & chol & thalach\\\\\n",
       " <dbl> & <dbl> & <dbl> & <dbl>\\\\\n",
       "\\hline\n",
       "\t 77 & 200 & 200 & 202\\\\\n",
       "\\end{tabular}\n"
      ],
      "text/markdown": [
       "\n",
       "A tibble: 1 × 4\n",
       "\n",
       "| age &lt;dbl&gt; | trestbps &lt;dbl&gt; | chol &lt;dbl&gt; | thalach &lt;dbl&gt; |\n",
       "|---|---|---|---|\n",
       "| 77 | 200 | 200 | 202 |\n",
       "\n"
      ],
      "text/plain": [
       "  age trestbps chol thalach\n",
       "1 77  200      200  202    "
      ]
     },
     "metadata": {},
     "output_type": "display_data"
    }
   ],
   "source": [
    "#Calculating the max of the predictors \n",
    "\n",
    "max_obs <-  heart_disease_select |>\n",
    "            map_df(max, na.rm = TRUE)\n",
    "max_obs\n"
   ]
  },
  {
   "cell_type": "markdown",
   "id": "0c4dabd1-2d9e-461e-8e55-37b131f0bbba",
   "metadata": {},
   "source": [
    "The max value of the predictors we are using are:\n",
    "\n",
    "- Age : 77\n",
    "- Tresbps (Resting Blood Pressure) : 200 mm of Hg\n",
    "- Serum Cholestrol :131.62 mg/l\n",
    "- Thalach (Maximum Heart Rate) : 136.7 bpm"
   ]
  },
  {
   "cell_type": "code",
   "execution_count": 5,
   "id": "cf7d65a8-b494-46dd-8301-d37ccfb2d545",
   "metadata": {
    "vscode": {
     "languageId": "r"
    }
   },
   "outputs": [
    {
     "data": {
      "text/html": [
       "<table class=\"dataframe\">\n",
       "<caption>A tibble: 1 × 4</caption>\n",
       "<thead>\n",
       "\t<tr><th scope=col>age</th><th scope=col>trestbps</th><th scope=col>chol</th><th scope=col>thalach</th></tr>\n",
       "\t<tr><th scope=col>&lt;dbl&gt;</th><th scope=col>&lt;dbl&gt;</th><th scope=col>&lt;dbl&gt;</th><th scope=col>&lt;dbl&gt;</th></tr>\n",
       "</thead>\n",
       "<tbody>\n",
       "\t<tr><td>29</td><td>80</td><td>80</td><td>60</td></tr>\n",
       "</tbody>\n",
       "</table>\n"
      ],
      "text/latex": [
       "A tibble: 1 × 4\n",
       "\\begin{tabular}{llll}\n",
       " age & trestbps & chol & thalach\\\\\n",
       " <dbl> & <dbl> & <dbl> & <dbl>\\\\\n",
       "\\hline\n",
       "\t 29 & 80 & 80 & 60\\\\\n",
       "\\end{tabular}\n"
      ],
      "text/markdown": [
       "\n",
       "A tibble: 1 × 4\n",
       "\n",
       "| age &lt;dbl&gt; | trestbps &lt;dbl&gt; | chol &lt;dbl&gt; | thalach &lt;dbl&gt; |\n",
       "|---|---|---|---|\n",
       "| 29 | 80 | 80 | 60 |\n",
       "\n"
      ],
      "text/plain": [
       "  age trestbps chol thalach\n",
       "1 29  80       80   60     "
      ]
     },
     "metadata": {},
     "output_type": "display_data"
    }
   ],
   "source": [
    "#Calculating the min of the predictors \n",
    "min_obs <- heart_disease_select |>\n",
    "           map_df(min, na.rm = TRUE)\n",
    "\n",
    "min_obs"
   ]
  },
  {
   "cell_type": "markdown",
   "id": "9b1243d0-776e-422c-912e-f50185c956be",
   "metadata": {},
   "source": [
    "These are the minimum values of all predictors. On scrutiny, there is only one observatoin with cholestrol = 0 and trestbps = 0. It seems like this is a faulty observation and should be removed"
   ]
  },
  {
   "cell_type": "code",
   "execution_count": 6,
   "id": "8c3150b9-1f37-4aea-930b-dab145b33de8",
   "metadata": {
    "vscode": {
     "languageId": "r"
    }
   },
   "outputs": [
    {
     "data": {
      "text/html": [
       "<table class=\"dataframe\">\n",
       "<caption>A tibble: 5 × 2</caption>\n",
       "<thead>\n",
       "\t<tr><th scope=col>class</th><th scope=col>percentage</th></tr>\n",
       "\t<tr><th scope=col>&lt;fct&gt;</th><th scope=col>&lt;dbl&gt;</th></tr>\n",
       "</thead>\n",
       "<tbody>\n",
       "\t<tr><td>0</td><td>36.000000</td></tr>\n",
       "\t<tr><td>1</td><td>26.588235</td></tr>\n",
       "\t<tr><td>2</td><td>17.882353</td></tr>\n",
       "\t<tr><td>3</td><td>16.235294</td></tr>\n",
       "\t<tr><td>4</td><td> 3.294118</td></tr>\n",
       "</tbody>\n",
       "</table>\n"
      ],
      "text/latex": [
       "A tibble: 5 × 2\n",
       "\\begin{tabular}{ll}\n",
       " class & percentage\\\\\n",
       " <fct> & <dbl>\\\\\n",
       "\\hline\n",
       "\t 0 & 36.000000\\\\\n",
       "\t 1 & 26.588235\\\\\n",
       "\t 2 & 17.882353\\\\\n",
       "\t 3 & 16.235294\\\\\n",
       "\t 4 &  3.294118\\\\\n",
       "\\end{tabular}\n"
      ],
      "text/markdown": [
       "\n",
       "A tibble: 5 × 2\n",
       "\n",
       "| class &lt;fct&gt; | percentage &lt;dbl&gt; |\n",
       "|---|---|\n",
       "| 0 | 36.000000 |\n",
       "| 1 | 26.588235 |\n",
       "| 2 | 17.882353 |\n",
       "| 3 | 16.235294 |\n",
       "| 4 |  3.294118 |\n",
       "\n"
      ],
      "text/plain": [
       "  class percentage\n",
       "1 0     36.000000 \n",
       "2 1     26.588235 \n",
       "3 2     17.882353 \n",
       "4 3     16.235294 \n",
       "5 4      3.294118 "
      ]
     },
     "metadata": {},
     "output_type": "display_data"
    }
   ],
   "source": [
    "\n",
    "#Calculating the distribution of classes \n",
    "\n",
    "class_pct <- heart_disease_train |> \n",
    "             group_by(class) |>\n",
    "             summarize(percentage = n()*100/nrow(heart_disease_train))\n",
    "class_pct "
   ]
  },
  {
   "cell_type": "markdown",
   "id": "ecde205e-42a3-4e4e-bcef-fc0c98490fce",
   "metadata": {},
   "source": [
    "\n",
    "\n",
    "It is clear that the class 0 (absence of disease)is in the majority in the data set. The next most observed class is the presence of the lowest level of heart disease. Heart disease of level  4 is the least common in our data set. If a majority classifier was used, then it would only have a 35.04% accuracy. Our data set is well balanced with the distribution of classes, but we would may need to do oversampling for the class 4,2,3. "
   ]
  },
  {
   "cell_type": "code",
   "execution_count": 7,
   "id": "d5edaf80-5660-41de-8f31-d222f7456e4b",
   "metadata": {},
   "outputs": [
    {
     "data": {
      "text/html": [
       "<table class=\"dataframe\">\n",
       "<caption>A tibble: 1 × 4</caption>\n",
       "<thead>\n",
       "\t<tr><th scope=col>na_age</th><th scope=col>na_chol</th><th scope=col>na_trespbs</th><th scope=col>na_thalach</th></tr>\n",
       "\t<tr><th scope=col>&lt;int&gt;</th><th scope=col>&lt;int&gt;</th><th scope=col>&lt;int&gt;</th><th scope=col>&lt;int&gt;</th></tr>\n",
       "</thead>\n",
       "<tbody>\n",
       "\t<tr><td>0</td><td>0</td><td>0</td><td>0</td></tr>\n",
       "</tbody>\n",
       "</table>\n"
      ],
      "text/latex": [
       "A tibble: 1 × 4\n",
       "\\begin{tabular}{llll}\n",
       " na\\_age & na\\_chol & na\\_trespbs & na\\_thalach\\\\\n",
       " <int> & <int> & <int> & <int>\\\\\n",
       "\\hline\n",
       "\t 0 & 0 & 0 & 0\\\\\n",
       "\\end{tabular}\n"
      ],
      "text/markdown": [
       "\n",
       "A tibble: 1 × 4\n",
       "\n",
       "| na_age &lt;int&gt; | na_chol &lt;int&gt; | na_trespbs &lt;int&gt; | na_thalach &lt;int&gt; |\n",
       "|---|---|---|---|\n",
       "| 0 | 0 | 0 | 0 |\n",
       "\n"
      ],
      "text/plain": [
       "  na_age na_chol na_trespbs na_thalach\n",
       "1 0      0       0          0         "
      ]
     },
     "metadata": {},
     "output_type": "display_data"
    },
    {
     "data": {
      "text/html": [
       "425"
      ],
      "text/latex": [
       "425"
      ],
      "text/markdown": [
       "425"
      ],
      "text/plain": [
       "[1] 425"
      ]
     },
     "metadata": {},
     "output_type": "display_data"
    }
   ],
   "source": [
    "#counting the number of NAs\n",
    "\n",
    "heart_disease_select |> summarize( na_age = sum(is.na(age)),\n",
    "                                   na_chol = sum(is.na(chol)),\n",
    "                                  na_trespbs = sum(is.na(trestbps)), \n",
    "                                  na_thalach = sum(is.na(thalach)))\n",
    "\n",
    "nrow(heart_disease_train)"
   ]
  },
  {
   "cell_type": "markdown",
   "id": "cd636f32-5f4c-4d9e-a111-78adabba82a1",
   "metadata": {},
   "source": [
    "In the training data set, the number of NAs in the predictor variables is significant, but in comparison to the total number of data points, it is not a big problem. We can still use them as predictors.\n"
   ]
  },
  {
   "cell_type": "markdown",
   "id": "66844507-0e0b-4aa5-a3f6-3c93c46b73b7",
   "metadata": {},
   "source": [
    "#### Preliminary Graphic Analysis ####"
   ]
  },
  {
   "cell_type": "code",
   "execution_count": 8,
   "id": "bd0bc04c-a0c3-4ebb-afda-f8c3d58b9666",
   "metadata": {
    "vscode": {
     "languageId": "r"
    }
   },
   "outputs": [
    {
     "name": "stderr",
     "output_type": "stream",
     "text": [
      "`stat_bin()` using `bins = 30`. Pick better value with `binwidth`.\n",
      "\n",
      "`stat_bin()` using `bins = 30`. Pick better value with `binwidth`.\n",
      "\n",
      "`stat_bin()` using `bins = 30`. Pick better value with `binwidth`.\n",
      "\n",
      "`stat_bin()` using `bins = 30`. Pick better value with `binwidth`.\n",
      "\n"
     ]
    },
    {
     "data": {
      "image/png": "[encoded data removed]",
      "text/plain": [
       "plot without title"
      ]
     },
     "metadata": {
      "image/png": {
       "height": 600,
       "width": 600
      }
     },
     "output_type": "display_data"
    }
   ],
   "source": [
    "options(repr.plot.width = 10, repr.plot.height = 10)\n",
    "\n",
    "age_hist <- ggplot(heart_disease_train, \n",
    "                      aes(x = age)) +\n",
    "  geom_histogram() +\n",
    "  labs(x = \"Age(years)\", \n",
    "       y = \" Number of Patients\") +\n",
    "  theme(text = element_text(size = 15))\n",
    "\n",
    "chol_hist <- ggplot(heart_disease_train, \n",
    "                      aes(x = chol)) +\n",
    "  geom_histogram() +\n",
    "  labs(x = \"Serum Cholestrol(mg/dl)\", \n",
    "       y = \" Number of Patients\") +\n",
    "  theme(text = element_text(size = 15))\n",
    "\n",
    "thalach_hist <- ggplot(heart_disease_train, \n",
    "                      aes(x = thalach)) +\n",
    "  geom_histogram() +\n",
    "  labs(x = \"Max Heart Rate(bpm)\", \n",
    "       y = \" Number of Patients\") +\n",
    "  theme(text = element_text(size = 15))\n",
    "\n",
    "bp_hist <- ggplot(heart_disease_train, \n",
    "                      aes(x = trestbps)) +\n",
    "  geom_histogram() +\n",
    "  labs(x = \"Resting Blood Pressure (mm of Hg)\", \n",
    "       y = \" Number of Patients\") +\n",
    "  theme(text = element_text(size = 15))\n",
    "\n",
    "plot_grid(age_hist,chol_hist,thalach_hist,bp_hist)"
   ]
  },
  {
   "cell_type": "markdown",
   "id": "ab2bb93f-a159-465a-9819-fc24c9f74b90",
   "metadata": {},
   "source": [
    "The above plots show the distribution of the predictor variables in the data set. "
   ]
  },
  {
   "cell_type": "markdown",
   "id": "8d6fc76c-0019-42c0-93bf-e9b0f8133273",
   "metadata": {},
   "source": [
    "### Methods:"
   ]
  },
  {
   "cell_type": "markdown",
   "id": "70251d4c-c442-43f5-9f8e-91e87dced3a8",
   "metadata": {
    "vscode": {
     "languageId": "r"
    }
   },
   "source": [
    "Having many predictors is good, but it is important to ensure they are relevant. Irrelevant predictors add noise and decrease accuracy.\n",
    "\n",
    "The predictors we will use are age, serum cholesterol (chol), maximum heart rate achieved (thalach), and blood pressure (trestpbps). We believe increased age and cholesterol translates to elevated severity of heart disease. Maximum heart rate is an indicator for cardiovascular fitness which can impact the potential severity for heart disease. Lastly, elevated blood pressure impacts blood flow which influences the severity for heart disease. \n",
    "\n",
    "All four variables are significant so they will be predictors. \n",
    "\n",
    "There are many ways to make predictions for classification problems but we will use the K-nearest-neighbors algorithm. Through the steps of visualizing, evaluating, and tuning our data, we will attempt to accurately predict the severity of heart disease. \n",
    "\n",
    "We will use a scatter plot of the standardized predictors in order to visualize trends in severity of heart disease compared to our variables. \n",
    "\n",
    "We are using the K-neighbors algorithm so we will be making a combined scatter and line plot comparing  “neighbors” to “estimated accuracy”. This allows us to find the optimal k value which yields the best accuracy. \n"
   ]
  },
  {
   "cell_type": "markdown",
   "id": "08ea800a-c772-449a-b820-8fbc67698349",
   "metadata": {},
   "source": [
    "### Expected Outcomes and Significance:"
   ]
  },
  {
   "cell_type": "markdown",
   "id": "b0fe1a9d",
   "metadata": {},
   "source": [
    "We expect to predict the severity of heart disease based on an individual’s physical health. We predict age, cholesterol levels, and resting blood pressure will be positively correlated to heart disease. Conversely, the maximum achievable heart rate will be negatively correlated with heart disease. These findings can help determine who may be at a higher risk of developing heart disease and prevent it. "
   ]
  },
  {
   "cell_type": "markdown",
   "id": "048ddcfb-0e46-4272-a293-ef1f6a68f1f4",
   "metadata": {},
   "source": [
    "### Analysis of the Data"
   ]
  },
  {
   "cell_type": "code",
   "execution_count": 26,
   "id": "c4c0fd35-79ca-4dc4-a9d5-eeb09c254fd9",
   "metadata": {},
   "outputs": [
    {
     "data": {
      "text/plain": [
       "Recipe\n",
       "\n",
       "Inputs:\n",
       "\n",
       "      role #variables\n",
       "   outcome          1\n",
       " predictor          4\n",
       "\n",
       "Operations:\n",
       "\n",
       "Centering for all_predictors()\n",
       "Scaling for all_predictors()"
      ]
     },
     "metadata": {},
     "output_type": "display_data"
    },
    {
     "data": {
      "text/plain": [
       "K-Nearest Neighbor Model Specification (classification)\n",
       "\n",
       "Main Arguments:\n",
       "  neighbors = tune()\n",
       "  weight_func = rectangular\n",
       "\n",
       "Computational engine: kknn \n"
      ]
     },
     "metadata": {},
     "output_type": "display_data"
    }
   ],
   "source": [
    "#Data Preprocessing\n",
    "\n",
    "#Creating 5 folds for cross validations\n",
    "heart_disease_vfold <- vfold_cv(heart_disease_train, v = 5, strata = class)\n",
    "\n",
    "#Creating the recipe and performing centering, scaling and upsampling. \n",
    "\n",
    "heart_disease_recipe <- recipe(class ~ age + trestbps + chol + thalach, data = heart_disease_train) |>\n",
    "                        step_center(all_predictors()) |>\n",
    "                        step_scale(all_predictors()) \n",
    "\n",
    "#Creating the model specification for our knn classification model\n",
    "\n",
    "knn_spec <- nearest_neighbor(weight_func = \"rectangular\", neighbors = tune()) |>\n",
    "            set_engine(\"kknn\") |>\n",
    "            set_mode(\"classification\")\n",
    "        \n",
    "#Creating a data frame for k values \n",
    "k_vals <- tibble(neighbors = seq(from = 1, to = 10, by = 2))\n",
    "heart_disease_recipe \n",
    "knn_spec"
   ]
  },
  {
   "cell_type": "code",
   "execution_count": 28,
   "id": "3926ae4e-3a6d-43a1-ab91-0937717a102a",
   "metadata": {},
   "outputs": [
    {
     "data": {
      "text/html": [
       "<table class=\"dataframe\">\n",
       "<caption>A tibble: 5 × 7</caption>\n",
       "<thead>\n",
       "\t<tr><th scope=col>neighbors</th><th scope=col>.metric</th><th scope=col>.estimator</th><th scope=col>mean</th><th scope=col>n</th><th scope=col>std_err</th><th scope=col>.config</th></tr>\n",
       "\t<tr><th scope=col>&lt;dbl&gt;</th><th scope=col>&lt;chr&gt;</th><th scope=col>&lt;chr&gt;</th><th scope=col>&lt;dbl&gt;</th><th scope=col>&lt;int&gt;</th><th scope=col>&lt;dbl&gt;</th><th scope=col>&lt;chr&gt;</th></tr>\n",
       "</thead>\n",
       "<tbody>\n",
       "\t<tr><td>1</td><td>accuracy</td><td>multiclass</td><td>0.3674693</td><td>5</td><td>0.026620221</td><td>Preprocessor1_Model1</td></tr>\n",
       "\t<tr><td>3</td><td>accuracy</td><td>multiclass</td><td>0.3981754</td><td>5</td><td>0.022144469</td><td>Preprocessor1_Model2</td></tr>\n",
       "\t<tr><td>5</td><td>accuracy</td><td>multiclass</td><td>0.3837294</td><td>5</td><td>0.012269371</td><td>Preprocessor1_Model3</td></tr>\n",
       "\t<tr><td>7</td><td>accuracy</td><td>multiclass</td><td>0.3906539</td><td>5</td><td>0.007339086</td><td>Preprocessor1_Model4</td></tr>\n",
       "\t<tr><td>9</td><td>accuracy</td><td>multiclass</td><td>0.3814865</td><td>5</td><td>0.015954486</td><td>Preprocessor1_Model5</td></tr>\n",
       "</tbody>\n",
       "</table>\n"
      ],
      "text/latex": [
       "A tibble: 5 × 7\n",
       "\\begin{tabular}{lllllll}\n",
       " neighbors & .metric & .estimator & mean & n & std\\_err & .config\\\\\n",
       " <dbl> & <chr> & <chr> & <dbl> & <int> & <dbl> & <chr>\\\\\n",
       "\\hline\n",
       "\t 1 & accuracy & multiclass & 0.3674693 & 5 & 0.026620221 & Preprocessor1\\_Model1\\\\\n",
       "\t 3 & accuracy & multiclass & 0.3981754 & 5 & 0.022144469 & Preprocessor1\\_Model2\\\\\n",
       "\t 5 & accuracy & multiclass & 0.3837294 & 5 & 0.012269371 & Preprocessor1\\_Model3\\\\\n",
       "\t 7 & accuracy & multiclass & 0.3906539 & 5 & 0.007339086 & Preprocessor1\\_Model4\\\\\n",
       "\t 9 & accuracy & multiclass & 0.3814865 & 5 & 0.015954486 & Preprocessor1\\_Model5\\\\\n",
       "\\end{tabular}\n"
      ],
      "text/markdown": [
       "\n",
       "A tibble: 5 × 7\n",
       "\n",
       "| neighbors &lt;dbl&gt; | .metric &lt;chr&gt; | .estimator &lt;chr&gt; | mean &lt;dbl&gt; | n &lt;int&gt; | std_err &lt;dbl&gt; | .config &lt;chr&gt; |\n",
       "|---|---|---|---|---|---|---|\n",
       "| 1 | accuracy | multiclass | 0.3674693 | 5 | 0.026620221 | Preprocessor1_Model1 |\n",
       "| 3 | accuracy | multiclass | 0.3981754 | 5 | 0.022144469 | Preprocessor1_Model2 |\n",
       "| 5 | accuracy | multiclass | 0.3837294 | 5 | 0.012269371 | Preprocessor1_Model3 |\n",
       "| 7 | accuracy | multiclass | 0.3906539 | 5 | 0.007339086 | Preprocessor1_Model4 |\n",
       "| 9 | accuracy | multiclass | 0.3814865 | 5 | 0.015954486 | Preprocessor1_Model5 |\n",
       "\n"
      ],
      "text/plain": [
       "  neighbors .metric  .estimator mean      n std_err     .config             \n",
       "1 1         accuracy multiclass 0.3674693 5 0.026620221 Preprocessor1_Model1\n",
       "2 3         accuracy multiclass 0.3981754 5 0.022144469 Preprocessor1_Model2\n",
       "3 5         accuracy multiclass 0.3837294 5 0.012269371 Preprocessor1_Model3\n",
       "4 7         accuracy multiclass 0.3906539 5 0.007339086 Preprocessor1_Model4\n",
       "5 9         accuracy multiclass 0.3814865 5 0.015954486 Preprocessor1_Model5"
      ]
     },
     "metadata": {},
     "output_type": "display_data"
    }
   ],
   "source": [
    "# Calculating the cross validation accuracy for all k values \n",
    "knn_results <- workflow() |>\n",
    "               add_recipe(heart_disease_recipe) |>\n",
    "               add_model(knn_spec) |>\n",
    "               tune_grid(resamples = heart_disease_vfold, grid = k_vals)|>\n",
    "               collect_metrics() |>\n",
    "               filter(.metric == \"accuracy\")\n",
    "knn_results            "
   ]
  },
  {
   "cell_type": "code",
   "execution_count": 29,
   "id": "f8731e1a-d946-4ba7-88d0-af2dc42e3343",
   "metadata": {},
   "outputs": [
    {
     "data": {
      "image/png": "[encoded data removed]",
      "text/plain": [
       "plot without title"
      ]
     },
     "metadata": {
      "image/png": {
       "height": 600,
       "width": 600
      }
     },
     "output_type": "display_data"
    }
   ],
   "source": [
    "#Visualising the results using an accuracy estimate vs k plot \n",
    "accuracy_vs_k <- ggplot(knn_results, aes(x = neighbors, y = mean)) +\n",
    "  geom_point() + \n",
    "  geom_line() +\n",
    "  labs(x = \"Neighbors\", y = \"Accuracy Estimate\") + \n",
    "  ggtitle(\"Accuracy Estimate vs K plot\") +\n",
    "  scale_x_continuous(1:10) +\n",
    "  theme(text = element_text(size = 12))\n",
    "accuracy_vs_k"
   ]
  },
  {
   "cell_type": "code",
   "execution_count": null,
   "id": "e54c6fae-3f19-4e16-ad08-460c2dd772cd",
   "metadata": {},
   "outputs": [],
   "source": [
    "#Finding the best k \n",
    "best_k <- knn_results  |>\n",
    "          filter(mean = max(mean) |>\n",
    "          slice(1) |>\n",
    "          pull(neighbors)\n",
    "best_k "
   ]
  },
  {
   "cell_type": "code",
   "execution_count": null,
   "id": "fe55d44b-222c-4376-ae66-7540e95d1510",
   "metadata": {},
   "outputs": [],
   "source": []
  }
 ],
 "metadata": {
  "kernelspec": {
   "display_name": "R",
   "language": "R",
   "name": "ir"
  },
  "language_info": {
   "codemirror_mode": "r",
   "file_extension": ".r",
   "mimetype": "text/x-r-source",
   "name": "R",
   "pygments_lexer": "r",
   "version": "4.1.3"
  }
 },
 "nbformat": 4,
 "nbformat_minor": 5
}
