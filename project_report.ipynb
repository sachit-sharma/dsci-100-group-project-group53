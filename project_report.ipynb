{
 "cells": [
  {
   "cell_type": "markdown",
   "id": "112a02af-6ef5-4210-baca-8936fc1a353a",
   "metadata": {},
   "source": [
    "## Predicting Heart Disease"
   ]
  },
  {
   "cell_type": "markdown",
   "id": "2b7649d9-bac6-41b8-8451-eff4f69e33f9",
   "metadata": {},
   "source": [
    "### Introduction:\n",
    "\n"
   ]
  },
  {
   "cell_type": "markdown",
   "id": "6945f447-534e-469b-a1bd-f2ade39cb1c9",
   "metadata": {},
   "source": [
    "According to the CDC, one person dies every 33 seconds from heart disease in the United States. Heart disease is a condition that affects the heart and blood vessels.Though there is no definite cure, it is possible to alleviate symptoms and prevent the condition from worsening and becoming fatal via lifestyle changes and medications. The question we will be answering is: Can we predict the severity of heart disease in a patient based on health measurements taken in the hospital? We will be using the “Heart Disease'' dataset from the UC Irvine Machine Learning Repository which provides health and lifestyle characteristics of patients, and whether the patient is diagnosed with heart disease as well as its severity, ranging from 0 (no presence) to 4. \n",
    "\n",
    "**Predictive Question**: Can we predict the severity of heart disease in a patient based on health measurments taken in the hospital?\n",
    "\n",
    "**Dataset**: Heart Disease Dataset. It has 14 variables:\n",
    "\n",
    "- Age: Years\n",
    "- Sex : 1 = male , 0 = female\n",
    "- cp :  chest pain type\n",
    "- trestbps : resting blood pressure (mm Hg)\n",
    "- chol :  serum cholesterol (mg/dl)\n",
    "- fbs :   fasting blood sugar   ( 1: fbs >120mg/dl, 0 : fbx <120 mg/dl)\n",
    "- Restecg : resting electrocardiographic results\n",
    "- Thalach : maximum heart rate achieved\n",
    "- exang :  exercise induced angina \n",
    "- Oldpeak : ST depression induced by exercise relative to rest\n",
    "- Slope : slope of the peak exercise ST segment ( 1: upsloping, 2: flat,  downsloping)\n",
    "- ca :   number of major vessels (0-3) colored by fluoroscopy\n",
    "- Thal : normal, fixed defect, reversible defect\n",
    "- Num :  Level of heart disease \n",
    "\n",
    "Other characteristics:\n",
    "There is some missing data in the dataset. \n"
   ]
  },
  {
   "cell_type": "markdown",
   "id": "48b13d9e-bb9e-4f53-99a2-51d2ba6a0526",
   "metadata": {},
   "source": [
    "### Preliminary Exploratory Data Analysis:"
   ]
  },
  {
   "cell_type": "code",
   "execution_count": 2,
   "id": "c7e89dc5-7f5a-4610-9b4a-606b5fe723da",
   "metadata": {},
   "outputs": [
    {
     "name": "stderr",
     "output_type": "stream",
     "text": [
      "── \u001b[1mAttaching packages\u001b[22m ─────────────────────────────────────── tidyverse 1.3.1 ──\n",
      "\n",
      "\u001b[32m✔\u001b[39m \u001b[34mggplot2\u001b[39m 3.3.6     \u001b[32m✔\u001b[39m \u001b[34mpurrr  \u001b[39m 0.3.4\n",
      "\u001b[32m✔\u001b[39m \u001b[34mtibble \u001b[39m 3.1.7     \u001b[32m✔\u001b[39m \u001b[34mdplyr  \u001b[39m 1.0.9\n",
      "\u001b[32m✔\u001b[39m \u001b[34mtidyr  \u001b[39m 1.2.0     \u001b[32m✔\u001b[39m \u001b[34mstringr\u001b[39m 1.4.0\n",
      "\u001b[32m✔\u001b[39m \u001b[34mreadr  \u001b[39m 2.1.2     \u001b[32m✔\u001b[39m \u001b[34mforcats\u001b[39m 0.5.1\n",
      "\n",
      "── \u001b[1mConflicts\u001b[22m ────────────────────────────────────────── tidyverse_conflicts() ──\n",
      "\u001b[31m✖\u001b[39m \u001b[34mdplyr\u001b[39m::\u001b[32mfilter()\u001b[39m masks \u001b[34mstats\u001b[39m::filter()\n",
      "\u001b[31m✖\u001b[39m \u001b[34mdplyr\u001b[39m::\u001b[32mlag()\u001b[39m    masks \u001b[34mstats\u001b[39m::lag()\n",
      "\n",
      "── \u001b[1mAttaching packages\u001b[22m ────────────────────────────────────── tidymodels 1.0.0 ──\n",
      "\n",
      "\u001b[32m✔\u001b[39m \u001b[34mbroom       \u001b[39m 1.0.0     \u001b[32m✔\u001b[39m \u001b[34mrsample     \u001b[39m 1.0.0\n",
      "\u001b[32m✔\u001b[39m \u001b[34mdials       \u001b[39m 1.0.0     \u001b[32m✔\u001b[39m \u001b[34mtune        \u001b[39m 1.0.0\n",
      "\u001b[32m✔\u001b[39m \u001b[34minfer       \u001b[39m 1.0.2     \u001b[32m✔\u001b[39m \u001b[34mworkflows   \u001b[39m 1.0.0\n",
      "\u001b[32m✔\u001b[39m \u001b[34mmodeldata   \u001b[39m 1.0.0     \u001b[32m✔\u001b[39m \u001b[34mworkflowsets\u001b[39m 1.0.0\n",
      "\u001b[32m✔\u001b[39m \u001b[34mparsnip     \u001b[39m 1.0.0     \u001b[32m✔\u001b[39m \u001b[34myardstick   \u001b[39m 1.0.0\n",
      "\u001b[32m✔\u001b[39m \u001b[34mrecipes     \u001b[39m 1.0.1     \n",
      "\n",
      "── \u001b[1mConflicts\u001b[22m ───────────────────────────────────────── tidymodels_conflicts() ──\n",
      "\u001b[31m✖\u001b[39m \u001b[34mscales\u001b[39m::\u001b[32mdiscard()\u001b[39m masks \u001b[34mpurrr\u001b[39m::discard()\n",
      "\u001b[31m✖\u001b[39m \u001b[34mdplyr\u001b[39m::\u001b[32mfilter()\u001b[39m   masks \u001b[34mstats\u001b[39m::filter()\n",
      "\u001b[31m✖\u001b[39m \u001b[34mrecipes\u001b[39m::\u001b[32mfixed()\u001b[39m  masks \u001b[34mstringr\u001b[39m::fixed()\n",
      "\u001b[31m✖\u001b[39m \u001b[34mdplyr\u001b[39m::\u001b[32mlag()\u001b[39m      masks \u001b[34mstats\u001b[39m::lag()\n",
      "\u001b[31m✖\u001b[39m \u001b[34myardstick\u001b[39m::\u001b[32mspec()\u001b[39m masks \u001b[34mreadr\u001b[39m::spec()\n",
      "\u001b[31m✖\u001b[39m \u001b[34mrecipes\u001b[39m::\u001b[32mstep()\u001b[39m   masks \u001b[34mstats\u001b[39m::step()\n",
      "\u001b[34m•\u001b[39m Dig deeper into tidy modeling with R at \u001b[32mhttps://www.tmwr.org\u001b[39m\n",
      "\n"
     ]
    },
    {
     "ename": "ERROR",
     "evalue": "Error in library(dpylr): there is no package called ‘dpylr’\n",
     "output_type": "error",
     "traceback": [
      "Error in library(dpylr): there is no package called ‘dpylr’\nTraceback:\n",
      "1. library(dpylr)"
     ]
    }
   ],
   "source": [
    "### Loading the relevant libraries\n",
    "library(tidyverse)\n",
    "library(repr)\n",
    "library(tidymodels)\n",
    "library(cowplot)\n",
    "library(dpylr)\n",
    "\n",
    "set.seed(1234)"
   ]
  },
  {
   "cell_type": "code",
   "execution_count": 3,
   "id": "3fca2fce-7b5f-4629-a3c7-4fb49ede46cf",
   "metadata": {
    "vscode": {
     "languageId": "r"
    }
   },
   "outputs": [
    {
     "name": "stderr",
     "output_type": "stream",
     "text": [
      "\u001b[1mRows: \u001b[22m\u001b[34m626\u001b[39m \u001b[1mColumns: \u001b[22m\u001b[34m14\u001b[39m\n",
      "\u001b[36m──\u001b[39m \u001b[1mColumn specification\u001b[22m \u001b[36m────────────────────────────────────────────────────────\u001b[39m\n",
      "\u001b[1mDelimiter:\u001b[22m \",\"\n",
      "\u001b[31mchr\u001b[39m (10): trestbps, chol, fbs, restecg, thalach, exang, oldspeak, slope, ca,...\n",
      "\u001b[32mdbl\u001b[39m  (4): age, sex, cp, num\n",
      "\n",
      "\u001b[36mℹ\u001b[39m Use `spec()` to retrieve the full column specification for this data.\n",
      "\u001b[36mℹ\u001b[39m Specify the column types or set `show_col_types = FALSE` to quiet this message.\n",
      "Warning message in mask$eval_all_mutate(quo):\n",
      "“NAs introduced by coercion”\n",
      "Warning message in mask$eval_all_mutate(quo):\n",
      "“NAs introduced by coercion”\n",
      "Warning message in mask$eval_all_mutate(quo):\n",
      "“NAs introduced by coercion”\n",
      "Warning message in mask$eval_all_mutate(quo):\n",
      "“NAs introduced by coercion”\n"
     ]
    },
    {
     "data": {
      "text/html": [
       "<table class=\"dataframe\">\n",
       "<caption>A tibble: 6 × 14</caption>\n",
       "<thead>\n",
       "\t<tr><th scope=col>age</th><th scope=col>sex</th><th scope=col>cp</th><th scope=col>trestbps</th><th scope=col>chol</th><th scope=col>fbs</th><th scope=col>restecg</th><th scope=col>thalach</th><th scope=col>exang</th><th scope=col>oldspeak</th><th scope=col>slope</th><th scope=col>ca</th><th scope=col>thal</th><th scope=col>class</th></tr>\n",
       "\t<tr><th scope=col>&lt;dbl&gt;</th><th scope=col>&lt;fct&gt;</th><th scope=col>&lt;fct&gt;</th><th scope=col>&lt;dbl&gt;</th><th scope=col>&lt;dbl&gt;</th><th scope=col>&lt;fct&gt;</th><th scope=col>&lt;fct&gt;</th><th scope=col>&lt;dbl&gt;</th><th scope=col>&lt;fct&gt;</th><th scope=col>&lt;dbl&gt;</th><th scope=col>&lt;dbl&gt;</th><th scope=col>&lt;fct&gt;</th><th scope=col>&lt;fct&gt;</th><th scope=col>&lt;fct&gt;</th></tr>\n",
       "</thead>\n",
       "<tbody>\n",
       "\t<tr><td>63</td><td>1</td><td>1</td><td>145</td><td>145</td><td>1.0</td><td>2.0</td><td>150</td><td>0.0</td><td>2.3</td><td>3</td><td>0.0</td><td>6.0</td><td>0</td></tr>\n",
       "\t<tr><td>67</td><td>1</td><td>4</td><td>160</td><td>160</td><td>0.0</td><td>2.0</td><td>108</td><td>1.0</td><td>1.5</td><td>2</td><td>3.0</td><td>3.0</td><td>2</td></tr>\n",
       "\t<tr><td>67</td><td>1</td><td>4</td><td>120</td><td>120</td><td>0.0</td><td>2.0</td><td>129</td><td>1.0</td><td>2.6</td><td>2</td><td>2.0</td><td>7.0</td><td>1</td></tr>\n",
       "\t<tr><td>37</td><td>1</td><td>3</td><td>130</td><td>130</td><td>0.0</td><td>0.0</td><td>187</td><td>0.0</td><td>3.5</td><td>3</td><td>0.0</td><td>3.0</td><td>0</td></tr>\n",
       "\t<tr><td>41</td><td>0</td><td>2</td><td>130</td><td>130</td><td>0.0</td><td>2.0</td><td>172</td><td>0.0</td><td>1.4</td><td>1</td><td>0.0</td><td>3.0</td><td>0</td></tr>\n",
       "\t<tr><td>56</td><td>1</td><td>2</td><td>120</td><td>120</td><td>0.0</td><td>0.0</td><td>178</td><td>0.0</td><td>0.8</td><td>1</td><td>0.0</td><td>3.0</td><td>0</td></tr>\n",
       "</tbody>\n",
       "</table>\n"
      ],
      "text/latex": [
       "A tibble: 6 × 14\n",
       "\\begin{tabular}{llllllllllllll}\n",
       " age & sex & cp & trestbps & chol & fbs & restecg & thalach & exang & oldspeak & slope & ca & thal & class\\\\\n",
       " <dbl> & <fct> & <fct> & <dbl> & <dbl> & <fct> & <fct> & <dbl> & <fct> & <dbl> & <dbl> & <fct> & <fct> & <fct>\\\\\n",
       "\\hline\n",
       "\t 63 & 1 & 1 & 145 & 145 & 1.0 & 2.0 & 150 & 0.0 & 2.3 & 3 & 0.0 & 6.0 & 0\\\\\n",
       "\t 67 & 1 & 4 & 160 & 160 & 0.0 & 2.0 & 108 & 1.0 & 1.5 & 2 & 3.0 & 3.0 & 2\\\\\n",
       "\t 67 & 1 & 4 & 120 & 120 & 0.0 & 2.0 & 129 & 1.0 & 2.6 & 2 & 2.0 & 7.0 & 1\\\\\n",
       "\t 37 & 1 & 3 & 130 & 130 & 0.0 & 0.0 & 187 & 0.0 & 3.5 & 3 & 0.0 & 3.0 & 0\\\\\n",
       "\t 41 & 0 & 2 & 130 & 130 & 0.0 & 2.0 & 172 & 0.0 & 1.4 & 1 & 0.0 & 3.0 & 0\\\\\n",
       "\t 56 & 1 & 2 & 120 & 120 & 0.0 & 0.0 & 178 & 0.0 & 0.8 & 1 & 0.0 & 3.0 & 0\\\\\n",
       "\\end{tabular}\n"
      ],
      "text/markdown": [
       "\n",
       "A tibble: 6 × 14\n",
       "\n",
       "| age &lt;dbl&gt; | sex &lt;fct&gt; | cp &lt;fct&gt; | trestbps &lt;dbl&gt; | chol &lt;dbl&gt; | fbs &lt;fct&gt; | restecg &lt;fct&gt; | thalach &lt;dbl&gt; | exang &lt;fct&gt; | oldspeak &lt;dbl&gt; | slope &lt;dbl&gt; | ca &lt;fct&gt; | thal &lt;fct&gt; | class &lt;fct&gt; |\n",
       "|---|---|---|---|---|---|---|---|---|---|---|---|---|---|\n",
       "| 63 | 1 | 1 | 145 | 145 | 1.0 | 2.0 | 150 | 0.0 | 2.3 | 3 | 0.0 | 6.0 | 0 |\n",
       "| 67 | 1 | 4 | 160 | 160 | 0.0 | 2.0 | 108 | 1.0 | 1.5 | 2 | 3.0 | 3.0 | 2 |\n",
       "| 67 | 1 | 4 | 120 | 120 | 0.0 | 2.0 | 129 | 1.0 | 2.6 | 2 | 2.0 | 7.0 | 1 |\n",
       "| 37 | 1 | 3 | 130 | 130 | 0.0 | 0.0 | 187 | 0.0 | 3.5 | 3 | 0.0 | 3.0 | 0 |\n",
       "| 41 | 0 | 2 | 130 | 130 | 0.0 | 2.0 | 172 | 0.0 | 1.4 | 1 | 0.0 | 3.0 | 0 |\n",
       "| 56 | 1 | 2 | 120 | 120 | 0.0 | 0.0 | 178 | 0.0 | 0.8 | 1 | 0.0 | 3.0 | 0 |\n",
       "\n"
      ],
      "text/plain": [
       "  age sex cp trestbps chol fbs restecg thalach exang oldspeak slope ca  thal\n",
       "1 63  1   1  145      145  1.0 2.0     150     0.0   2.3      3     0.0 6.0 \n",
       "2 67  1   4  160      160  0.0 2.0     108     1.0   1.5      2     3.0 3.0 \n",
       "3 67  1   4  120      120  0.0 2.0     129     1.0   2.6      2     2.0 7.0 \n",
       "4 37  1   3  130      130  0.0 0.0     187     0.0   3.5      3     0.0 3.0 \n",
       "5 41  0   2  130      130  0.0 2.0     172     0.0   1.4      1     0.0 3.0 \n",
       "6 56  1   2  120      120  0.0 0.0     178     0.0   0.8      1     0.0 3.0 \n",
       "  class\n",
       "1 0    \n",
       "2 2    \n",
       "3 1    \n",
       "4 0    \n",
       "5 0    \n",
       "6 0    "
      ]
     },
     "metadata": {},
     "output_type": "display_data"
    }
   ],
   "source": [
    "#Reading the data from Github\n",
    "\n",
    "#URl of the raw clevland.data file \n",
    "url <- \"https://raw.githubusercontent.com/sachit-sharma/dsci-100-group-project-group53/main/processed.cleveland.data\"\n",
    "column_names <- c(\"age\", \"sex\", \"cp\", \"trestbps\", \"chol\", \"fbs\", \"restecg\", \"thalach\", \"exang\", \"oldspeak\", \"slope\", \"ca\", \"thal\", \"num\")\n",
    "\n",
    "heart_disease_data <- read_csv(url, col_names = column_names) |>\n",
    "                       mutate (sex = as.factor(sex), \n",
    "                              thal = as.factor(thal), \n",
    "                              num = as.factor(num), \n",
    "                              cp = as.factor(cp), \n",
    "                              fbs = as.factor(fbs), \n",
    "                              restecg = as.factor(restecg), \n",
    "                              exang = as.factor(exang), \n",
    "                              ca = as.factor(ca),\n",
    "                              slope = as.numeric(slope), \n",
    "                               trestbps = as.numeric(trestbps), \n",
    "                               chol = as.numeric(trestbps),\n",
    "                               oldspeak = as.numeric(oldspeak), \n",
    "                               thalach = as.numeric(thalach))|>\n",
    "                               rename(class = num)\n",
    "#Changing all ? to NA\n",
    "heart_disease_data[ heart_disease_data == \"?\"] <- NA \n",
    "\n",
    "#Removing all nas for the predictors\n",
    "heart_disease_data <- heart_disease_data |>\n",
    "                      filter(!is.na(age), !is.na(thalach), !is.na(chol), !is.na(trestbps), !is.na(oldspeak), !is.na(slope))\n",
    "\n",
    "\n",
    "#Splitting the data into training and testing\n",
    "heart_disease_split <- initial_split(heart_disease_data, prop = 0.75, strata = class)\n",
    "heart_disease_train <- training(heart_disease_split)\n",
    "heart_disease_test <- testing(heart_disease_split)\n",
    "\n",
    "head(heart_disease_data)"
   ]
  },
  {
   "cell_type": "code",
   "execution_count": 4,
   "id": "60fcd389-a10d-4c66-9d4e-ab653653e233",
   "metadata": {
    "vscode": {
     "languageId": "r"
    }
   },
   "outputs": [
    {
     "data": {
      "text/html": [
       "<table class=\"dataframe\">\n",
       "<caption>A tibble: 1 × 4</caption>\n",
       "<thead>\n",
       "\t<tr><th scope=col>age</th><th scope=col>trestbps</th><th scope=col>chol</th><th scope=col>thalach</th></tr>\n",
       "\t<tr><th scope=col>&lt;dbl&gt;</th><th scope=col>&lt;dbl&gt;</th><th scope=col>&lt;dbl&gt;</th><th scope=col>&lt;dbl&gt;</th></tr>\n",
       "</thead>\n",
       "<tbody>\n",
       "\t<tr><td>56.12766</td><td>130.8697</td><td>130.8697</td><td>138.8112</td></tr>\n",
       "</tbody>\n",
       "</table>\n"
      ],
      "text/latex": [
       "A tibble: 1 × 4\n",
       "\\begin{tabular}{llll}\n",
       " age & trestbps & chol & thalach\\\\\n",
       " <dbl> & <dbl> & <dbl> & <dbl>\\\\\n",
       "\\hline\n",
       "\t 56.12766 & 130.8697 & 130.8697 & 138.8112\\\\\n",
       "\\end{tabular}\n"
      ],
      "text/markdown": [
       "\n",
       "A tibble: 1 × 4\n",
       "\n",
       "| age &lt;dbl&gt; | trestbps &lt;dbl&gt; | chol &lt;dbl&gt; | thalach &lt;dbl&gt; |\n",
       "|---|---|---|---|\n",
       "| 56.12766 | 130.8697 | 130.8697 | 138.8112 |\n",
       "\n"
      ],
      "text/plain": [
       "  age      trestbps chol     thalach \n",
       "1 56.12766 130.8697 130.8697 138.8112"
      ]
     },
     "metadata": {},
     "output_type": "display_data"
    }
   ],
   "source": [
    "#Calculating the mean value of the predictors \n",
    "\n",
    "heart_disease_select <-  heart_disease_train |>\n",
    "                         select(age, trestbps, chol, thalach)\n",
    "\n",
    "mean_values <- heart_disease_select |>\n",
    "               map_df(mean, na.rm = TRUE)\n",
    "mean_values"
   ]
  },
  {
   "cell_type": "markdown",
   "id": "31fdceac-5b9b-479b-9fdc-1b721af53247",
   "metadata": {},
   "source": [
    "The mean value of the predictors we are using are:\n",
    "\n",
    "- Age : 56.3\n",
    "- Tresbps (Resting Blood Pressure) : 131 mm of Hg\n",
    "- Serum Cholestrol :131.62 mg/dl\n",
    "- Thalach (Maximum Heart Rate) : 136.7 bpm"
   ]
  },
  {
   "cell_type": "code",
   "execution_count": 5,
   "id": "e3f75236-7aa2-4e46-b7de-482ed4d18638",
   "metadata": {
    "vscode": {
     "languageId": "r"
    }
   },
   "outputs": [
    {
     "data": {
      "text/html": [
       "<table class=\"dataframe\">\n",
       "<caption>A tibble: 1 × 4</caption>\n",
       "<thead>\n",
       "\t<tr><th scope=col>age</th><th scope=col>trestbps</th><th scope=col>chol</th><th scope=col>thalach</th></tr>\n",
       "\t<tr><th scope=col>&lt;dbl&gt;</th><th scope=col>&lt;dbl&gt;</th><th scope=col>&lt;dbl&gt;</th><th scope=col>&lt;dbl&gt;</th></tr>\n",
       "</thead>\n",
       "<tbody>\n",
       "\t<tr><td>77</td><td>200</td><td>200</td><td>202</td></tr>\n",
       "</tbody>\n",
       "</table>\n"
      ],
      "text/latex": [
       "A tibble: 1 × 4\n",
       "\\begin{tabular}{llll}\n",
       " age & trestbps & chol & thalach\\\\\n",
       " <dbl> & <dbl> & <dbl> & <dbl>\\\\\n",
       "\\hline\n",
       "\t 77 & 200 & 200 & 202\\\\\n",
       "\\end{tabular}\n"
      ],
      "text/markdown": [
       "\n",
       "A tibble: 1 × 4\n",
       "\n",
       "| age &lt;dbl&gt; | trestbps &lt;dbl&gt; | chol &lt;dbl&gt; | thalach &lt;dbl&gt; |\n",
       "|---|---|---|---|\n",
       "| 77 | 200 | 200 | 202 |\n",
       "\n"
      ],
      "text/plain": [
       "  age trestbps chol thalach\n",
       "1 77  200      200  202    "
      ]
     },
     "metadata": {},
     "output_type": "display_data"
    }
   ],
   "source": [
    "#Calculating the max of the predictors \n",
    "\n",
    "max_obs <-  heart_disease_select |>\n",
    "            map_df(max, na.rm = TRUE)\n",
    "max_obs\n"
   ]
  },
  {
   "cell_type": "markdown",
   "id": "0c4dabd1-2d9e-461e-8e55-37b131f0bbba",
   "metadata": {},
   "source": [
    "The max value of the predictors we are using are:\n",
    "\n",
    "- Age : 77\n",
    "- Tresbps (Resting Blood Pressure) : 200 mm of Hg\n",
    "- Serum Cholestrol :131.62 mg/l\n",
    "- Thalach (Maximum Heart Rate) : 136.7 bpm"
   ]
  },
  {
   "cell_type": "code",
   "execution_count": 6,
   "id": "cf7d65a8-b494-46dd-8301-d37ccfb2d545",
   "metadata": {
    "vscode": {
     "languageId": "r"
    }
   },
   "outputs": [
    {
     "data": {
      "text/html": [
       "<table class=\"dataframe\">\n",
       "<caption>A tibble: 1 × 4</caption>\n",
       "<thead>\n",
       "\t<tr><th scope=col>age</th><th scope=col>trestbps</th><th scope=col>chol</th><th scope=col>thalach</th></tr>\n",
       "\t<tr><th scope=col>&lt;dbl&gt;</th><th scope=col>&lt;dbl&gt;</th><th scope=col>&lt;dbl&gt;</th><th scope=col>&lt;dbl&gt;</th></tr>\n",
       "</thead>\n",
       "<tbody>\n",
       "\t<tr><td>29</td><td>0</td><td>0</td><td>63</td></tr>\n",
       "</tbody>\n",
       "</table>\n"
      ],
      "text/latex": [
       "A tibble: 1 × 4\n",
       "\\begin{tabular}{llll}\n",
       " age & trestbps & chol & thalach\\\\\n",
       " <dbl> & <dbl> & <dbl> & <dbl>\\\\\n",
       "\\hline\n",
       "\t 29 & 0 & 0 & 63\\\\\n",
       "\\end{tabular}\n"
      ],
      "text/markdown": [
       "\n",
       "A tibble: 1 × 4\n",
       "\n",
       "| age &lt;dbl&gt; | trestbps &lt;dbl&gt; | chol &lt;dbl&gt; | thalach &lt;dbl&gt; |\n",
       "|---|---|---|---|\n",
       "| 29 | 0 | 0 | 63 |\n",
       "\n"
      ],
      "text/plain": [
       "  age trestbps chol thalach\n",
       "1 29  0        0    63     "
      ]
     },
     "metadata": {},
     "output_type": "display_data"
    }
   ],
   "source": [
    "#Calculating the min of the predictors \n",
    "min_obs <- heart_disease_select |>\n",
    "           map_df(min, na.rm = TRUE)\n",
    "\n",
    "min_obs"
   ]
  },
  {
   "cell_type": "markdown",
   "id": "9b1243d0-776e-422c-912e-f50185c956be",
   "metadata": {},
   "source": [
    "These are the minimum values of all predictors. On scrutiny, there is only one observatoin with cholestrol = 0 and trestbps = 0. It seems like this is a faulty observation and should be removed"
   ]
  },
  {
   "cell_type": "code",
   "execution_count": 7,
   "id": "8c3150b9-1f37-4aea-930b-dab145b33de8",
   "metadata": {
    "vscode": {
     "languageId": "r"
    }
   },
   "outputs": [
    {
     "data": {
      "text/html": [
       "<table class=\"dataframe\">\n",
       "<caption>A tibble: 5 × 2</caption>\n",
       "<thead>\n",
       "\t<tr><th scope=col>class</th><th scope=col>percentage</th></tr>\n",
       "\t<tr><th scope=col>&lt;fct&gt;</th><th scope=col>&lt;dbl&gt;</th></tr>\n",
       "</thead>\n",
       "<tbody>\n",
       "\t<tr><td>0</td><td>36.968085</td></tr>\n",
       "\t<tr><td>1</td><td>24.734043</td></tr>\n",
       "\t<tr><td>2</td><td>17.553191</td></tr>\n",
       "\t<tr><td>3</td><td>16.223404</td></tr>\n",
       "\t<tr><td>4</td><td> 4.521277</td></tr>\n",
       "</tbody>\n",
       "</table>\n"
      ],
      "text/latex": [
       "A tibble: 5 × 2\n",
       "\\begin{tabular}{ll}\n",
       " class & percentage\\\\\n",
       " <fct> & <dbl>\\\\\n",
       "\\hline\n",
       "\t 0 & 36.968085\\\\\n",
       "\t 1 & 24.734043\\\\\n",
       "\t 2 & 17.553191\\\\\n",
       "\t 3 & 16.223404\\\\\n",
       "\t 4 &  4.521277\\\\\n",
       "\\end{tabular}\n"
      ],
      "text/markdown": [
       "\n",
       "A tibble: 5 × 2\n",
       "\n",
       "| class &lt;fct&gt; | percentage &lt;dbl&gt; |\n",
       "|---|---|\n",
       "| 0 | 36.968085 |\n",
       "| 1 | 24.734043 |\n",
       "| 2 | 17.553191 |\n",
       "| 3 | 16.223404 |\n",
       "| 4 |  4.521277 |\n",
       "\n"
      ],
      "text/plain": [
       "  class percentage\n",
       "1 0     36.968085 \n",
       "2 1     24.734043 \n",
       "3 2     17.553191 \n",
       "4 3     16.223404 \n",
       "5 4      4.521277 "
      ]
     },
     "metadata": {},
     "output_type": "display_data"
    }
   ],
   "source": [
    "\n",
    "#Calculating the distribution of classes \n",
    "\n",
    "class_pct <- heart_disease_train |> \n",
    "             group_by(class) |>\n",
    "             summarize(percentage = n()*100/nrow(heart_disease_train))\n",
    "class_pct "
   ]
  },
  {
   "cell_type": "markdown",
   "id": "ecde205e-42a3-4e4e-bcef-fc0c98490fce",
   "metadata": {},
   "source": [
    "\n",
    "\n",
    "It is clear that the class 0 (absence of disease)is in the majority in the data set. The next most observed class is the presence of the lowest level of heart disease. Heart disease of level  4 is the least common in our data set. If a majority classifier was used, then it would only have a 35.04% accuracy. Our data set is well balanced with the distribution of classes, but we would may need to do oversampling for the class 4,2,3. "
   ]
  },
  {
   "cell_type": "code",
   "execution_count": 8,
   "id": "d5edaf80-5660-41de-8f31-d222f7456e4b",
   "metadata": {},
   "outputs": [
    {
     "data": {
      "text/html": [
       "<table class=\"dataframe\">\n",
       "<caption>A tibble: 1 × 4</caption>\n",
       "<thead>\n",
       "\t<tr><th scope=col>na_age</th><th scope=col>na_chol</th><th scope=col>na_trespbs</th><th scope=col>na_thalach</th></tr>\n",
       "\t<tr><th scope=col>&lt;int&gt;</th><th scope=col>&lt;int&gt;</th><th scope=col>&lt;int&gt;</th><th scope=col>&lt;int&gt;</th></tr>\n",
       "</thead>\n",
       "<tbody>\n",
       "\t<tr><td>0</td><td>0</td><td>0</td><td>0</td></tr>\n",
       "</tbody>\n",
       "</table>\n"
      ],
      "text/latex": [
       "A tibble: 1 × 4\n",
       "\\begin{tabular}{llll}\n",
       " na\\_age & na\\_chol & na\\_trespbs & na\\_thalach\\\\\n",
       " <int> & <int> & <int> & <int>\\\\\n",
       "\\hline\n",
       "\t 0 & 0 & 0 & 0\\\\\n",
       "\\end{tabular}\n"
      ],
      "text/markdown": [
       "\n",
       "A tibble: 1 × 4\n",
       "\n",
       "| na_age &lt;int&gt; | na_chol &lt;int&gt; | na_trespbs &lt;int&gt; | na_thalach &lt;int&gt; |\n",
       "|---|---|---|---|\n",
       "| 0 | 0 | 0 | 0 |\n",
       "\n"
      ],
      "text/plain": [
       "  na_age na_chol na_trespbs na_thalach\n",
       "1 0      0       0          0         "
      ]
     },
     "metadata": {},
     "output_type": "display_data"
    },
    {
     "data": {
      "text/html": [
       "376"
      ],
      "text/latex": [
       "376"
      ],
      "text/markdown": [
       "376"
      ],
      "text/plain": [
       "[1] 376"
      ]
     },
     "metadata": {},
     "output_type": "display_data"
    }
   ],
   "source": [
    "#counting the number of NAs\n",
    "\n",
    "heart_disease_select |> summarize( na_age = sum(is.na(age)),\n",
    "                                   na_chol = sum(is.na(chol)),\n",
    "                                  na_trespbs = sum(is.na(trestbps)), \n",
    "                                  na_thalach = sum(is.na(thalach)))\n",
    "\n",
    "nrow(heart_disease_train)"
   ]
  },
  {
   "cell_type": "markdown",
   "id": "cd636f32-5f4c-4d9e-a111-78adabba82a1",
   "metadata": {},
   "source": [
    "In the training data set, the number of NAs in the predictor variables is significant, but in comparison to the total number of data points, it is not a big problem. We can still use them as predictors.\n"
   ]
  },
  {
   "cell_type": "markdown",
   "id": "66844507-0e0b-4aa5-a3f6-3c93c46b73b7",
   "metadata": {},
   "source": [
    "#### Preliminary Graphic Analysis ####"
   ]
  },
  {
   "cell_type": "code",
   "execution_count": 9,
   "id": "bd0bc04c-a0c3-4ebb-afda-f8c3d58b9666",
   "metadata": {
    "vscode": {
     "languageId": "r"
    }
   },
   "outputs": [
    {
     "name": "stderr",
     "output_type": "stream",
     "text": [
      "`stat_bin()` using `bins = 30`. Pick better value with `binwidth`.\n",
      "\n",
      "`stat_bin()` using `bins = 30`. Pick better value with `binwidth`.\n",
      "\n",
      "`stat_bin()` using `bins = 30`. Pick better value with `binwidth`.\n",
      "\n",
      "`stat_bin()` using `bins = 30`. Pick better value with `binwidth`.\n",
      "\n"
     ]
    },
    {
     "data": {
      "image/png": "[encoded data removed]",
      "text/plain": [
       "plot without title"
      ]
     },
     "metadata": {
      "image/png": {
       "height": 600,
       "width": 600
      }
     },
     "output_type": "display_data"
    }
   ],
   "source": [
    "options(repr.plot.width = 10, repr.plot.height = 10)\n",
    "\n",
    "age_hist <- ggplot(heart_disease_train, \n",
    "                      aes(x = age)) +\n",
    "  geom_histogram() +\n",
    "  labs(x = \"Age(years)\", \n",
    "       y = \" Number of Patients\") +\n",
    "  theme(text = element_text(size = 15))\n",
    "\n",
    "chol_hist <- ggplot(heart_disease_train, \n",
    "                      aes(x = chol)) +\n",
    "  geom_histogram() +\n",
    "  labs(x = \"Serum Cholestrol(mg/dl)\", \n",
    "       y = \" Number of Patients\") +\n",
    "  theme(text = element_text(size = 15))\n",
    "\n",
    "thalach_hist <- ggplot(heart_disease_train, \n",
    "                      aes(x = thalach)) +\n",
    "  geom_histogram() +\n",
    "  labs(x = \"Max Heart Rate(bpm)\", \n",
    "       y = \" Number of Patients\") +\n",
    "  theme(text = element_text(size = 15))\n",
    "\n",
    "bp_hist <- ggplot(heart_disease_train, \n",
    "                      aes(x = trestbps)) +\n",
    "  geom_histogram() +\n",
    "  labs(x = \"Resting Blood Pressure (mm of Hg)\", \n",
    "       y = \" Number of Patients\") +\n",
    "  theme(text = element_text(size = 15))\n",
    "\n",
    "plot_grid(age_hist,chol_hist,thalach_hist,bp_hist)"
   ]
  },
  {
   "cell_type": "markdown",
   "id": "ab2bb93f-a159-465a-9819-fc24c9f74b90",
   "metadata": {},
   "source": [
    "The above plots show the distribution of the predictor variables in the data set. "
   ]
  },
  {
   "cell_type": "markdown",
   "id": "8d6fc76c-0019-42c0-93bf-e9b0f8133273",
   "metadata": {},
   "source": [
    "### Methods:"
   ]
  },
  {
   "cell_type": "markdown",
   "id": "70251d4c-c442-43f5-9f8e-91e87dced3a8",
   "metadata": {
    "jp-MarkdownHeadingCollapsed": true,
    "tags": [],
    "vscode": {
     "languageId": "r"
    }
   },
   "source": [
    "Having many predictors is good, but it is important to ensure they are relevant. Irrelevant predictors add noise and decrease accuracy.\n",
    "\n",
    "#### Reasons for chosing the predictors \n",
    "The predictors we will use are age, serum cholesterol (chol), maximum heart rate achieved (thalach), and resting blood pressure (trestpbps). We chose these because of a combination of scientific research and our own intuition of what contributes to heart disease. \n",
    "\n",
    "- **Age**: According to the American Heart Association (AHA), the incidence of heart disease in US mean and women is ~40% from 40-59 years, ~75% from 60-79 years and ~86% in those above the age of 80. This suggests that old age can be a significant factor towards predicting heart disease (Rodgers et al.,2019)\n",
    "\n",
    "- **Cholestrol (chol)**: According to the study conducted by Jung et al.(2022), high serum cholesterol, which is composed of both high-density lipoprotein(HDL) and low-density lipoprotein(LDL), is shown to be associated with an increased mortality due to heart disease. As a result high cholestrol levels, can be a good predictor for high levels of heart disease. \n",
    "\n",
    "- **Maximum Heart Rate (thalach)** : A study by Peter-Guillaume et al.(2009)  found that high heart rate was a signifcant factor for cardiovasuclar disease. The study found that high heart rate was also associated with other risk factors for heart disease such as high blood pressure. As a result, we can expect high heart rate to be a predictor of high levels of heart disease. \n",
    "\n",
    "- **Resting Blood Pressure (trestpbs)** : Wu et al.(2015) found that stage 2-3 hypertension( blood presure >140 mm Hg) was associated with increased risk of cardiovascular disease and mortality among older adults. Thus, it can also serve as a good predictor. \n",
    "\n",
    "All four variables are significant so they will be predictors. \n",
    "\n",
    "There are many ways to make predictions for classification problems but we will use the K-nearest-neighbors algorithm. Through the steps of visualizing, evaluating, and tuning our data, we will attempt to accurately predict the severity of heart disease. \n",
    "\n",
    "We will use a scatter plot of the standardized predictors in order to visualize trends in severity of heart disease compared to our variables. \n",
    "\n",
    "We are using the K-neighbors algorithm so we will be making a combined scatter and line plot comparing  “neighbors” to “estimated accuracy”. This allows us to find the optimal k value which yields the best accuracy. \n",
    "\n",
    "\n",
    "References\n",
    "\n",
    "1. Rodgers, J. L., Jones, J., Bolleddu, S. I., Vanthenapalli, S., Rodgers, L. E., Shah, K., ... & Panguluri, S. K. (2019). Cardiovascular risks associated with gender and aging. *Journal of cardiovascular development and disease, 6*(2), 19. https://doi.org/10.3390/jcdd6020019\n",
    "\n"
   ]
  },
  {
   "cell_type": "markdown",
   "id": "08ea800a-c772-449a-b820-8fbc67698349",
   "metadata": {},
   "source": [
    "### Expected Outcomes and Significance:"
   ]
  },
  {
   "cell_type": "markdown",
   "id": "b0fe1a9d",
   "metadata": {},
   "source": [
    "We expect to predict the severity of heart disease based on an individual’s physical health. We predict age, cholesterol levels, and resting blood pressure will be positively correlated to heart disease. Conversely, the maximum achievable heart rate will be negatively correlated with heart disease. These findings can help determine who may be at a higher risk of developing heart disease and prevent it. "
   ]
  },
  {
   "cell_type": "markdown",
   "id": "e2a44e45-e145-43d0-822c-1dd6ab8cf8b4",
   "metadata": {},
   "source": [
    "### Forward Selection"
   ]
  },
  {
   "cell_type": "code",
   "execution_count": 13,
   "id": "0172b5d1-bac5-48a3-a22a-e9cc75a9cd41",
   "metadata": {},
   "outputs": [
    {
     "data": {
      "text/html": [
       "<table class=\"dataframe\">\n",
       "<caption>A tibble: 6 × 3</caption>\n",
       "<thead>\n",
       "\t<tr><th scope=col>size</th><th scope=col>model_string</th><th scope=col>accuracy</th></tr>\n",
       "\t<tr><th scope=col>&lt;int&gt;</th><th scope=col>&lt;chr&gt;</th><th scope=col>&lt;dbl&gt;</th></tr>\n",
       "</thead>\n",
       "<tbody>\n",
       "\t<tr><td>1</td><td>class ~ oldspeak                                </td><td>0.4071666</td></tr>\n",
       "\t<tr><td>2</td><td>class ~ oldspeak+thalach                        </td><td>0.4336273</td></tr>\n",
       "\t<tr><td>3</td><td>class ~ oldspeak+thalach+chol                   </td><td>0.4575362</td></tr>\n",
       "\t<tr><td>4</td><td>class ~ oldspeak+thalach+chol+age               </td><td>0.4601650</td></tr>\n",
       "\t<tr><td>5</td><td>class ~ oldspeak+thalach+chol+age+trestbps      </td><td>0.4628677</td></tr>\n",
       "\t<tr><td>6</td><td>class ~ oldspeak+thalach+chol+age+trestbps+slope</td><td>0.4357294</td></tr>\n",
       "</tbody>\n",
       "</table>\n"
      ],
      "text/latex": [
       "A tibble: 6 × 3\n",
       "\\begin{tabular}{lll}\n",
       " size & model\\_string & accuracy\\\\\n",
       " <int> & <chr> & <dbl>\\\\\n",
       "\\hline\n",
       "\t 1 & class \\textasciitilde{} oldspeak                                 & 0.4071666\\\\\n",
       "\t 2 & class \\textasciitilde{} oldspeak+thalach                         & 0.4336273\\\\\n",
       "\t 3 & class \\textasciitilde{} oldspeak+thalach+chol                    & 0.4575362\\\\\n",
       "\t 4 & class \\textasciitilde{} oldspeak+thalach+chol+age                & 0.4601650\\\\\n",
       "\t 5 & class \\textasciitilde{} oldspeak+thalach+chol+age+trestbps       & 0.4628677\\\\\n",
       "\t 6 & class \\textasciitilde{} oldspeak+thalach+chol+age+trestbps+slope & 0.4357294\\\\\n",
       "\\end{tabular}\n"
      ],
      "text/markdown": [
       "\n",
       "A tibble: 6 × 3\n",
       "\n",
       "| size &lt;int&gt; | model_string &lt;chr&gt; | accuracy &lt;dbl&gt; |\n",
       "|---|---|---|\n",
       "| 1 | class ~ oldspeak                                 | 0.4071666 |\n",
       "| 2 | class ~ oldspeak+thalach                         | 0.4336273 |\n",
       "| 3 | class ~ oldspeak+thalach+chol                    | 0.4575362 |\n",
       "| 4 | class ~ oldspeak+thalach+chol+age                | 0.4601650 |\n",
       "| 5 | class ~ oldspeak+thalach+chol+age+trestbps       | 0.4628677 |\n",
       "| 6 | class ~ oldspeak+thalach+chol+age+trestbps+slope | 0.4357294 |\n",
       "\n"
      ],
      "text/plain": [
       "  size model_string                                     accuracy \n",
       "1 1    class ~ oldspeak                                 0.4071666\n",
       "2 2    class ~ oldspeak+thalach                         0.4336273\n",
       "3 3    class ~ oldspeak+thalach+chol                    0.4575362\n",
       "4 4    class ~ oldspeak+thalach+chol+age                0.4601650\n",
       "5 5    class ~ oldspeak+thalach+chol+age+trestbps       0.4628677\n",
       "6 6    class ~ oldspeak+thalach+chol+age+trestbps+slope 0.4357294"
      ]
     },
     "metadata": {},
     "output_type": "display_data"
    }
   ],
   "source": [
    "library(dplyr)\n",
    "library(tidymodels)\n",
    "\n",
    "# # Reference: https://datasciencebook.ca/classification2.html#forward-selection-in-r\n",
    "# #Creating the column names \n",
    "\n",
    "heart_disease_select <- heart_disease_train |>\n",
    "                        select(age, chol, thalach, slope, oldspeak, trestbps, class)\n",
    "\n",
    "names <- colnames(heart_disease_select |> select(-class))\n",
    "\n",
    "# # create an empty tibble to store the results\n",
    "accuracies <- tibble(size = integer(), \n",
    "                     model_string = character(), \n",
    "                     accuracy = numeric())\n",
    "\n",
    "# # create a model specification\n",
    "knn_spec <- nearest_neighbor(weight_func = \"rectangular\", \n",
    "                             neighbors = tune()) |>\n",
    "     set_engine(\"kknn\") |>\n",
    "     set_mode(\"classification\")\n",
    "\n",
    "# # create a 5-fold cross-validation object\n",
    "heart_disease_vfold <- vfold_cv(heart_disease_select, v = 5, strata = class)\n",
    "\n",
    "# # store the total number of predictors\n",
    "n_total <- length(names)\n",
    "\n",
    "# # stores selected predictors\n",
    "selected <- c()\n",
    "\n",
    "# # for every size from 1 to the total number of predictors\n",
    "for (i in 1:n_total) {\n",
    "# #     # for every predictor still not added yet\n",
    "    accs <- list()\n",
    "    models <- list()\n",
    "    for (j in 1:length(names)) {\n",
    "        # create a model string for this combination of predictors\n",
    "        preds_new <- c(selected, names[[j]])\n",
    "        model_string <- paste(\"class\", \"~\", paste(preds_new, collapse=\"+\"))\n",
    "\n",
    "# #         # create a recipe from the model string\n",
    "    heart_disease_recipe <- recipe(as.formula(model_string), \n",
    "                                   data = heart_disease_select) |>\n",
    "      step_scale(all_predictors()) |>\n",
    "      step_center(all_predictors())\n",
    "\n",
    "# #         # tune the KNN classifier with these predictors, \n",
    "# #         # and collect the accuracy for the best K\n",
    "        acc <- workflow() |>\n",
    "          add_recipe(heart_disease_recipe) |>\n",
    "          add_model(knn_spec) |>\n",
    "          tune_grid(resamples = heart_disease_vfold, grid = 10) |>\n",
    "          collect_metrics() |>\n",
    "          filter(.metric == \"accuracy\") |>\n",
    "          summarize(mx = max(mean))\n",
    "        acc <- acc$mx |> unlist()\n",
    "\n",
    "# #         # add this result to the dataframe\n",
    "        accs[[j]] <- acc\n",
    "        models[[j]] <- model_string\n",
    "    }\n",
    "    jstar <- which.max(unlist(accs))\n",
    "    accuracies <- accuracies |> \n",
    "      add_row(size = i, \n",
    "              model_string = models[[jstar]], \n",
    "              accuracy = accs[[jstar]])\n",
    "    selected <- c(selected, names[[jstar]])\n",
    "    names <- names[-jstar]\n",
    "}\n",
    "accuracies\n",
    "\n",
    "\n"
   ]
  },
  {
   "cell_type": "code",
   "execution_count": 50,
   "id": "f753d7df-c102-41ce-b3bd-c1da5dafdb2c",
   "metadata": {},
   "outputs": [
    {
     "data": {
      "image/png": "[encoded data removed]",
      "text/plain": [
       "plot without title"
      ]
     },
     "metadata": {
      "image/png": {
       "height": 600,
       "width": 600
      }
     },
     "output_type": "display_data"
    }
   ],
   "source": [
    "fs_plot <- accuracies |> \n",
    "ggplot(aes(x = size, y = accuracy)) + \n",
    "geom_point() + \n",
    "geom_line() + \n",
    "labs(x = \"Number of Predictors\", y = \"Accuracy\") +\n",
    "ggtitle (\"Forward Selection Accuracies Depending on Number of Predictors\")\n",
    "\n",
    "fs_plot"
   ]
  },
  {
   "cell_type": "markdown",
   "id": "048ddcfb-0e46-4272-a293-ef1f6a68f1f4",
   "metadata": {},
   "source": [
    "### Analysis of the Data"
   ]
  },
  {
   "cell_type": "code",
   "execution_count": 33,
   "id": "c4c0fd35-79ca-4dc4-a9d5-eeb09c254fd9",
   "metadata": {},
   "outputs": [
    {
     "data": {
      "text/plain": [
       "Recipe\n",
       "\n",
       "Inputs:\n",
       "\n",
       "      role #variables\n",
       "   outcome          1\n",
       " predictor          3\n",
       "\n",
       "Operations:\n",
       "\n",
       "Centering for all_predictors()\n",
       "Scaling for all_predictors()"
      ]
     },
     "metadata": {},
     "output_type": "display_data"
    },
    {
     "data": {
      "text/plain": [
       "K-Nearest Neighbor Model Specification (classification)\n",
       "\n",
       "Main Arguments:\n",
       "  neighbors = tune()\n",
       "  weight_func = rectangular\n",
       "\n",
       "Computational engine: kknn \n"
      ]
     },
     "metadata": {},
     "output_type": "display_data"
    }
   ],
   "source": [
    "#Data Preprocessing\n",
    "\n",
    "#Creating 5 folds for cross validations\n",
    "heart_disease_vfold <- vfold_cv(heart_disease_train, v = 5, strata = class)\n",
    "\n",
    "#Creating the recipe and performing centering, scaling and upsampling. \n",
    "\n",
    "heart_disease_recipe <- recipe(class ~ trestbps + chol + trestbps + age, data = heart_disease_train) |>\n",
    "                        step_center(all_predictors()) |>\n",
    "                        step_scale(all_predictors())\n",
    "\n",
    "#Creating the model specification for our knn classification model\n",
    "\n",
    "knn_spec <- nearest_neighbor(weight_func = \"rectangular\", neighbors = tune()) |>\n",
    "            set_engine(\"kknn\") |>\n",
    "            set_mode(\"classification\")\n",
    "        \n",
    "#Creating a data frame for k values \n",
    "k_vals <- tibble(neighbors = seq(from = 1, to = 15, by = 1))\n",
    "heart_disease_recipe \n",
    "knn_spec"
   ]
  },
  {
   "cell_type": "code",
   "execution_count": 34,
   "id": "3926ae4e-3a6d-43a1-ab91-0937717a102a",
   "metadata": {},
   "outputs": [
    {
     "data": {
      "text/html": [
       "<table class=\"dataframe\">\n",
       "<caption>A tibble: 15 × 7</caption>\n",
       "<thead>\n",
       "\t<tr><th scope=col>neighbors</th><th scope=col>.metric</th><th scope=col>.estimator</th><th scope=col>mean</th><th scope=col>n</th><th scope=col>std_err</th><th scope=col>.config</th></tr>\n",
       "\t<tr><th scope=col>&lt;dbl&gt;</th><th scope=col>&lt;chr&gt;</th><th scope=col>&lt;chr&gt;</th><th scope=col>&lt;dbl&gt;</th><th scope=col>&lt;int&gt;</th><th scope=col>&lt;dbl&gt;</th><th scope=col>&lt;chr&gt;</th></tr>\n",
       "</thead>\n",
       "<tbody>\n",
       "\t<tr><td> 1</td><td>accuracy</td><td>multiclass</td><td>0.2584172</td><td>5</td><td>0.027674325</td><td>Preprocessor1_Model01</td></tr>\n",
       "\t<tr><td> 2</td><td>accuracy</td><td>multiclass</td><td>0.2717534</td><td>5</td><td>0.022669769</td><td>Preprocessor1_Model02</td></tr>\n",
       "\t<tr><td> 3</td><td>accuracy</td><td>multiclass</td><td>0.2663091</td><td>5</td><td>0.014234403</td><td>Preprocessor1_Model03</td></tr>\n",
       "\t<tr><td> 4</td><td>accuracy</td><td>multiclass</td><td>0.3006571</td><td>5</td><td>0.022784378</td><td>Preprocessor1_Model04</td></tr>\n",
       "\t<tr><td> 5</td><td>accuracy</td><td>multiclass</td><td>0.3056688</td><td>5</td><td>0.018600955</td><td>Preprocessor1_Model05</td></tr>\n",
       "\t<tr><td> 6</td><td>accuracy</td><td>multiclass</td><td>0.3057419</td><td>5</td><td>0.016766446</td><td>Preprocessor1_Model06</td></tr>\n",
       "\t<tr><td> 7</td><td>accuracy</td><td>multiclass</td><td>0.3004816</td><td>5</td><td>0.007147562</td><td>Preprocessor1_Model07</td></tr>\n",
       "\t<tr><td> 8</td><td>accuracy</td><td>multiclass</td><td>0.3053881</td><td>5</td><td>0.017803262</td><td>Preprocessor1_Model08</td></tr>\n",
       "\t<tr><td> 9</td><td>accuracy</td><td>multiclass</td><td>0.3085225</td><td>5</td><td>0.006164990</td><td>Preprocessor1_Model09</td></tr>\n",
       "\t<tr><td>10</td><td>accuracy</td><td>multiclass</td><td>0.3056044</td><td>5</td><td>0.015431415</td><td>Preprocessor1_Model10</td></tr>\n",
       "\t<tr><td>11</td><td>accuracy</td><td>multiclass</td><td>0.3079846</td><td>5</td><td>0.025745979</td><td>Preprocessor1_Model11</td></tr>\n",
       "\t<tr><td>12</td><td>accuracy</td><td>multiclass</td><td>0.3186513</td><td>5</td><td>0.020393813</td><td>Preprocessor1_Model12</td></tr>\n",
       "\t<tr><td>13</td><td>accuracy</td><td>multiclass</td><td>0.3290666</td><td>5</td><td>0.024461496</td><td>Preprocessor1_Model13</td></tr>\n",
       "\t<tr><td>14</td><td>accuracy</td><td>multiclass</td><td>0.3476659</td><td>5</td><td>0.025725499</td><td>Preprocessor1_Model14</td></tr>\n",
       "\t<tr><td>15</td><td>accuracy</td><td>multiclass</td><td>0.3371074</td><td>5</td><td>0.021776058</td><td>Preprocessor1_Model15</td></tr>\n",
       "</tbody>\n",
       "</table>\n"
      ],
      "text/latex": [
       "A tibble: 15 × 7\n",
       "\\begin{tabular}{lllllll}\n",
       " neighbors & .metric & .estimator & mean & n & std\\_err & .config\\\\\n",
       " <dbl> & <chr> & <chr> & <dbl> & <int> & <dbl> & <chr>\\\\\n",
       "\\hline\n",
       "\t  1 & accuracy & multiclass & 0.2584172 & 5 & 0.027674325 & Preprocessor1\\_Model01\\\\\n",
       "\t  2 & accuracy & multiclass & 0.2717534 & 5 & 0.022669769 & Preprocessor1\\_Model02\\\\\n",
       "\t  3 & accuracy & multiclass & 0.2663091 & 5 & 0.014234403 & Preprocessor1\\_Model03\\\\\n",
       "\t  4 & accuracy & multiclass & 0.3006571 & 5 & 0.022784378 & Preprocessor1\\_Model04\\\\\n",
       "\t  5 & accuracy & multiclass & 0.3056688 & 5 & 0.018600955 & Preprocessor1\\_Model05\\\\\n",
       "\t  6 & accuracy & multiclass & 0.3057419 & 5 & 0.016766446 & Preprocessor1\\_Model06\\\\\n",
       "\t  7 & accuracy & multiclass & 0.3004816 & 5 & 0.007147562 & Preprocessor1\\_Model07\\\\\n",
       "\t  8 & accuracy & multiclass & 0.3053881 & 5 & 0.017803262 & Preprocessor1\\_Model08\\\\\n",
       "\t  9 & accuracy & multiclass & 0.3085225 & 5 & 0.006164990 & Preprocessor1\\_Model09\\\\\n",
       "\t 10 & accuracy & multiclass & 0.3056044 & 5 & 0.015431415 & Preprocessor1\\_Model10\\\\\n",
       "\t 11 & accuracy & multiclass & 0.3079846 & 5 & 0.025745979 & Preprocessor1\\_Model11\\\\\n",
       "\t 12 & accuracy & multiclass & 0.3186513 & 5 & 0.020393813 & Preprocessor1\\_Model12\\\\\n",
       "\t 13 & accuracy & multiclass & 0.3290666 & 5 & 0.024461496 & Preprocessor1\\_Model13\\\\\n",
       "\t 14 & accuracy & multiclass & 0.3476659 & 5 & 0.025725499 & Preprocessor1\\_Model14\\\\\n",
       "\t 15 & accuracy & multiclass & 0.3371074 & 5 & 0.021776058 & Preprocessor1\\_Model15\\\\\n",
       "\\end{tabular}\n"
      ],
      "text/markdown": [
       "\n",
       "A tibble: 15 × 7\n",
       "\n",
       "| neighbors &lt;dbl&gt; | .metric &lt;chr&gt; | .estimator &lt;chr&gt; | mean &lt;dbl&gt; | n &lt;int&gt; | std_err &lt;dbl&gt; | .config &lt;chr&gt; |\n",
       "|---|---|---|---|---|---|---|\n",
       "|  1 | accuracy | multiclass | 0.2584172 | 5 | 0.027674325 | Preprocessor1_Model01 |\n",
       "|  2 | accuracy | multiclass | 0.2717534 | 5 | 0.022669769 | Preprocessor1_Model02 |\n",
       "|  3 | accuracy | multiclass | 0.2663091 | 5 | 0.014234403 | Preprocessor1_Model03 |\n",
       "|  4 | accuracy | multiclass | 0.3006571 | 5 | 0.022784378 | Preprocessor1_Model04 |\n",
       "|  5 | accuracy | multiclass | 0.3056688 | 5 | 0.018600955 | Preprocessor1_Model05 |\n",
       "|  6 | accuracy | multiclass | 0.3057419 | 5 | 0.016766446 | Preprocessor1_Model06 |\n",
       "|  7 | accuracy | multiclass | 0.3004816 | 5 | 0.007147562 | Preprocessor1_Model07 |\n",
       "|  8 | accuracy | multiclass | 0.3053881 | 5 | 0.017803262 | Preprocessor1_Model08 |\n",
       "|  9 | accuracy | multiclass | 0.3085225 | 5 | 0.006164990 | Preprocessor1_Model09 |\n",
       "| 10 | accuracy | multiclass | 0.3056044 | 5 | 0.015431415 | Preprocessor1_Model10 |\n",
       "| 11 | accuracy | multiclass | 0.3079846 | 5 | 0.025745979 | Preprocessor1_Model11 |\n",
       "| 12 | accuracy | multiclass | 0.3186513 | 5 | 0.020393813 | Preprocessor1_Model12 |\n",
       "| 13 | accuracy | multiclass | 0.3290666 | 5 | 0.024461496 | Preprocessor1_Model13 |\n",
       "| 14 | accuracy | multiclass | 0.3476659 | 5 | 0.025725499 | Preprocessor1_Model14 |\n",
       "| 15 | accuracy | multiclass | 0.3371074 | 5 | 0.021776058 | Preprocessor1_Model15 |\n",
       "\n"
      ],
      "text/plain": [
       "   neighbors .metric  .estimator mean      n std_err     .config              \n",
       "1   1        accuracy multiclass 0.2584172 5 0.027674325 Preprocessor1_Model01\n",
       "2   2        accuracy multiclass 0.2717534 5 0.022669769 Preprocessor1_Model02\n",
       "3   3        accuracy multiclass 0.2663091 5 0.014234403 Preprocessor1_Model03\n",
       "4   4        accuracy multiclass 0.3006571 5 0.022784378 Preprocessor1_Model04\n",
       "5   5        accuracy multiclass 0.3056688 5 0.018600955 Preprocessor1_Model05\n",
       "6   6        accuracy multiclass 0.3057419 5 0.016766446 Preprocessor1_Model06\n",
       "7   7        accuracy multiclass 0.3004816 5 0.007147562 Preprocessor1_Model07\n",
       "8   8        accuracy multiclass 0.3053881 5 0.017803262 Preprocessor1_Model08\n",
       "9   9        accuracy multiclass 0.3085225 5 0.006164990 Preprocessor1_Model09\n",
       "10 10        accuracy multiclass 0.3056044 5 0.015431415 Preprocessor1_Model10\n",
       "11 11        accuracy multiclass 0.3079846 5 0.025745979 Preprocessor1_Model11\n",
       "12 12        accuracy multiclass 0.3186513 5 0.020393813 Preprocessor1_Model12\n",
       "13 13        accuracy multiclass 0.3290666 5 0.024461496 Preprocessor1_Model13\n",
       "14 14        accuracy multiclass 0.3476659 5 0.025725499 Preprocessor1_Model14\n",
       "15 15        accuracy multiclass 0.3371074 5 0.021776058 Preprocessor1_Model15"
      ]
     },
     "metadata": {},
     "output_type": "display_data"
    }
   ],
   "source": [
    "# Calculating the cross validation accuracy for all k values \n",
    "knn_results <- workflow() |>\n",
    "               add_recipe(heart_disease_recipe) |>\n",
    "               add_model(knn_spec) |>\n",
    "               tune_grid(resamples = heart_disease_vfold, grid = k_vals)|>\n",
    "               collect_metrics() |>\n",
    "               filter(.metric == \"accuracy\")\n",
    "knn_results            "
   ]
  },
  {
   "cell_type": "code",
   "execution_count": 35,
   "id": "f8731e1a-d946-4ba7-88d0-af2dc42e3343",
   "metadata": {},
   "outputs": [
    {
     "data": {
      "text/plain": [
       "List of 1\n",
       " $ text:List of 11\n",
       "  ..$ family       : NULL\n",
       "  ..$ face         : NULL\n",
       "  ..$ colour       : NULL\n",
       "  ..$ size         : num 12\n",
       "  ..$ hjust        : NULL\n",
       "  ..$ vjust        : NULL\n",
       "  ..$ angle        : NULL\n",
       "  ..$ lineheight   : NULL\n",
       "  ..$ margin       : NULL\n",
       "  ..$ debug        : NULL\n",
       "  ..$ inherit.blank: logi FALSE\n",
       "  ..- attr(*, \"class\")= chr [1:2] \"element_text\" \"element\"\n",
       " - attr(*, \"class\")= chr [1:2] \"theme\" \"gg\"\n",
       " - attr(*, \"complete\")= logi FALSE\n",
       " - attr(*, \"validate\")= logi TRUE"
      ]
     },
     "metadata": {},
     "output_type": "display_data"
    },
    {
     "data": {
      "image/png": "[encoded data removed]",
      "text/plain": [
       "plot without title"
      ]
     },
     "metadata": {
      "image/png": {
       "height": 600,
       "width": 600
      }
     },
     "output_type": "display_data"
    }
   ],
   "source": [
    "#Visualising the results using an accuracy estimate vs k plot \n",
    "accuracy_vs_k <- ggplot(knn_results, aes(x = neighbors, y = mean)) +\n",
    "  geom_point() + \n",
    "  geom_line() +\n",
    "  labs(x = \"Neighbors\", y = \"Accuracy Estimate\") + \n",
    "  ggtitle(\"Accuracy Estimate vs K plot\")\n",
    "  theme(text = element_text(size = 12))\n",
    "accuracy_vs_k "
   ]
  },
  {
   "cell_type": "code",
   "execution_count": 36,
   "id": "e54c6fae-3f19-4e16-ad08-460c2dd772cd",
   "metadata": {},
   "outputs": [
    {
     "data": {
      "text/html": [
       "14"
      ],
      "text/latex": [
       "14"
      ],
      "text/markdown": [
       "14"
      ],
      "text/plain": [
       "[1] 14"
      ]
     },
     "metadata": {},
     "output_type": "display_data"
    }
   ],
   "source": [
    "#Finding the best k \n",
    "best_k <- knn_results  |>\n",
    "          arrange(mean) |>\n",
    "          tail(1) |>\n",
    "          pull(neighbors)\n",
    "best_k"
   ]
  },
  {
   "cell_type": "code",
   "execution_count": 49,
   "id": "8eac9c3f-7364-43f4-9193-7cc2c031469f",
   "metadata": {},
   "outputs": [
    {
     "data": {
      "text/html": [
       "<table class=\"dataframe\">\n",
       "<caption>A tibble: 129 × 15</caption>\n",
       "<thead>\n",
       "\t<tr><th scope=col>.pred_class</th><th scope=col>age</th><th scope=col>sex</th><th scope=col>cp</th><th scope=col>trestbps</th><th scope=col>chol</th><th scope=col>fbs</th><th scope=col>restecg</th><th scope=col>thalach</th><th scope=col>exang</th><th scope=col>oldspeak</th><th scope=col>slope</th><th scope=col>ca</th><th scope=col>thal</th><th scope=col>class</th></tr>\n",
       "\t<tr><th scope=col>&lt;fct&gt;</th><th scope=col>&lt;dbl&gt;</th><th scope=col>&lt;fct&gt;</th><th scope=col>&lt;fct&gt;</th><th scope=col>&lt;dbl&gt;</th><th scope=col>&lt;dbl&gt;</th><th scope=col>&lt;fct&gt;</th><th scope=col>&lt;fct&gt;</th><th scope=col>&lt;dbl&gt;</th><th scope=col>&lt;fct&gt;</th><th scope=col>&lt;dbl&gt;</th><th scope=col>&lt;dbl&gt;</th><th scope=col>&lt;fct&gt;</th><th scope=col>&lt;fct&gt;</th><th scope=col>&lt;fct&gt;</th></tr>\n",
       "</thead>\n",
       "<tbody>\n",
       "\t<tr><td>0</td><td>37</td><td>1</td><td>3</td><td>130</td><td>130</td><td>0.0</td><td>0.0</td><td>187</td><td>0.0</td><td>3.5</td><td>3</td><td>0.0</td><td>3.0</td><td>0</td></tr>\n",
       "\t<tr><td>0</td><td>53</td><td>1</td><td>4</td><td>140</td><td>140</td><td>1.0</td><td>2.0</td><td>155</td><td>1.0</td><td>3.1</td><td>3</td><td>0.0</td><td>7.0</td><td>1</td></tr>\n",
       "\t<tr><td>1</td><td>52</td><td>1</td><td>3</td><td>172</td><td>172</td><td>1.0</td><td>0.0</td><td>162</td><td>0.0</td><td>0.5</td><td>1</td><td>0.0</td><td>7.0</td><td>0</td></tr>\n",
       "\t<tr><td>0</td><td>57</td><td>1</td><td>3</td><td>150</td><td>150</td><td>0.0</td><td>0.0</td><td>174</td><td>0.0</td><td>1.6</td><td>1</td><td>0.0</td><td>3.0</td><td>0</td></tr>\n",
       "\t<tr><td>0</td><td>48</td><td>1</td><td>2</td><td>110</td><td>110</td><td>0.0</td><td>0.0</td><td>168</td><td>0.0</td><td>1.0</td><td>3</td><td>0.0</td><td>7.0</td><td>1</td></tr>\n",
       "\t<tr><td>2</td><td>59</td><td>1</td><td>4</td><td>135</td><td>135</td><td>0.0</td><td>0.0</td><td>161</td><td>0.0</td><td>0.5</td><td>2</td><td>0.0</td><td>7.0</td><td>0</td></tr>\n",
       "\t<tr><td>0</td><td>44</td><td>1</td><td>3</td><td>130</td><td>130</td><td>0.0</td><td>0.0</td><td>179</td><td>1.0</td><td>0.4</td><td>1</td><td>0.0</td><td>3.0</td><td>0</td></tr>\n",
       "\t<tr><td>0</td><td>65</td><td>0</td><td>4</td><td>150</td><td>150</td><td>0.0</td><td>2.0</td><td>114</td><td>0.0</td><td>1.0</td><td>2</td><td>3.0</td><td>7.0</td><td>4</td></tr>\n",
       "\t<tr><td>0</td><td>40</td><td>1</td><td>1</td><td>140</td><td>140</td><td>0.0</td><td>0.0</td><td>178</td><td>1.0</td><td>1.4</td><td>1</td><td>0.0</td><td>7.0</td><td>0</td></tr>\n",
       "\t<tr><td>1</td><td>59</td><td>1</td><td>3</td><td>150</td><td>150</td><td>1.0</td><td>0.0</td><td>157</td><td>0.0</td><td>1.6</td><td>1</td><td>0.0</td><td>3.0</td><td>0</td></tr>\n",
       "\t<tr><td>2</td><td>58</td><td>1</td><td>3</td><td>112</td><td>112</td><td>0.0</td><td>2.0</td><td>165</td><td>0.0</td><td>2.5</td><td>2</td><td>1.0</td><td>7.0</td><td>4</td></tr>\n",
       "\t<tr><td>0</td><td>51</td><td>0</td><td>4</td><td>130</td><td>130</td><td>0.0</td><td>0.0</td><td>142</td><td>1.0</td><td>1.2</td><td>2</td><td>0.0</td><td>7.0</td><td>2</td></tr>\n",
       "\t<tr><td>0</td><td>54</td><td>0</td><td>3</td><td>135</td><td>135</td><td>1.0</td><td>0.0</td><td>170</td><td>0.0</td><td>0.0</td><td>1</td><td>0.0</td><td>3.0</td><td>0</td></tr>\n",
       "\t<tr><td>2</td><td>60</td><td>1</td><td>4</td><td>145</td><td>145</td><td>0.0</td><td>2.0</td><td>142</td><td>1.0</td><td>2.8</td><td>2</td><td>2.0</td><td>7.0</td><td>2</td></tr>\n",
       "\t<tr><td>1</td><td>62</td><td>1</td><td>4</td><td>120</td><td>120</td><td>0.0</td><td>0.0</td><td> 99</td><td>1.0</td><td>1.8</td><td>2</td><td>2.0</td><td>7.0</td><td>1</td></tr>\n",
       "\t<tr><td>1</td><td>60</td><td>1</td><td>4</td><td>125</td><td>125</td><td>0.0</td><td>2.0</td><td>141</td><td>1.0</td><td>2.8</td><td>2</td><td>1.0</td><td>7.0</td><td>1</td></tr>\n",
       "\t<tr><td>0</td><td>45</td><td>1</td><td>4</td><td>104</td><td>104</td><td>0.0</td><td>2.0</td><td>148</td><td>1.0</td><td>3.0</td><td>2</td><td>0.0</td><td>3.0</td><td>0</td></tr>\n",
       "\t<tr><td>2</td><td>68</td><td>1</td><td>3</td><td>180</td><td>180</td><td>1.0</td><td>2.0</td><td>150</td><td>1.0</td><td>1.6</td><td>2</td><td>0.0</td><td>7.0</td><td>3</td></tr>\n",
       "\t<tr><td>0</td><td>44</td><td>1</td><td>3</td><td>140</td><td>140</td><td>0.0</td><td>2.0</td><td>180</td><td>0.0</td><td>0.0</td><td>1</td><td>0.0</td><td>3.0</td><td>0</td></tr>\n",
       "\t<tr><td>0</td><td>53</td><td>0</td><td>3</td><td>128</td><td>128</td><td>0.0</td><td>2.0</td><td>115</td><td>0.0</td><td>0.0</td><td>1</td><td>0.0</td><td>NA </td><td>0</td></tr>\n",
       "\t<tr><td>0</td><td>53</td><td>0</td><td>4</td><td>138</td><td>138</td><td>0.0</td><td>2.0</td><td>160</td><td>0.0</td><td>0.0</td><td>1</td><td>0.0</td><td>3.0</td><td>0</td></tr>\n",
       "\t<tr><td>0</td><td>48</td><td>1</td><td>4</td><td>122</td><td>122</td><td>0.0</td><td>2.0</td><td>186</td><td>0.0</td><td>0.0</td><td>1</td><td>0.0</td><td>3.0</td><td>0</td></tr>\n",
       "\t<tr><td>0</td><td>45</td><td>1</td><td>4</td><td>115</td><td>115</td><td>0.0</td><td>2.0</td><td>185</td><td>0.0</td><td>0.0</td><td>1</td><td>0.0</td><td>3.0</td><td>0</td></tr>\n",
       "\t<tr><td>0</td><td>54</td><td>1</td><td>2</td><td>108</td><td>108</td><td>0.0</td><td>0.0</td><td>156</td><td>0.0</td><td>0.0</td><td>1</td><td>0.0</td><td>7.0</td><td>0</td></tr>\n",
       "\t<tr><td>0</td><td>39</td><td>1</td><td>4</td><td>118</td><td>118</td><td>0.0</td><td>0.0</td><td>140</td><td>0.0</td><td>1.2</td><td>2</td><td>0.0</td><td>7.0</td><td>3</td></tr>\n",
       "\t<tr><td>0</td><td>43</td><td>0</td><td>4</td><td>132</td><td>132</td><td>1.0</td><td>2.0</td><td>136</td><td>1.0</td><td>3.0</td><td>2</td><td>0.0</td><td>7.0</td><td>2</td></tr>\n",
       "\t<tr><td>2</td><td>58</td><td>1</td><td>3</td><td>140</td><td>140</td><td>1.0</td><td>2.0</td><td>165</td><td>0.0</td><td>0.0</td><td>1</td><td>0.0</td><td>3.0</td><td>0</td></tr>\n",
       "\t<tr><td>0</td><td>35</td><td>0</td><td>4</td><td>138</td><td>138</td><td>0.0</td><td>0.0</td><td>182</td><td>0.0</td><td>1.4</td><td>1</td><td>0.0</td><td>3.0</td><td>0</td></tr>\n",
       "\t<tr><td>0</td><td>63</td><td>1</td><td>4</td><td>130</td><td>130</td><td>1.0</td><td>2.0</td><td>132</td><td>1.0</td><td>1.8</td><td>1</td><td>3.0</td><td>7.0</td><td>3</td></tr>\n",
       "\t<tr><td>3</td><td>63</td><td>0</td><td>4</td><td>150</td><td>150</td><td>0.0</td><td>2.0</td><td>154</td><td>0.0</td><td>4.0</td><td>2</td><td>3.0</td><td>7.0</td><td>4</td></tr>\n",
       "\t<tr><td>⋮</td><td>⋮</td><td>⋮</td><td>⋮</td><td>⋮</td><td>⋮</td><td>⋮</td><td>⋮</td><td>⋮</td><td>⋮</td><td>⋮</td><td>⋮</td><td>⋮</td><td>⋮</td><td>⋮</td></tr>\n",
       "\t<tr><td>3</td><td>60</td><td>1</td><td>4</td><td>160</td><td>160</td><td>NA</td><td>0</td><td>149</td><td>0</td><td>0.4</td><td>2</td><td>NA</td><td>NA</td><td>1</td></tr>\n",
       "\t<tr><td>2</td><td>61</td><td>1</td><td>4</td><td>110</td><td>110</td><td>NA</td><td>0</td><td>113</td><td>0</td><td>1.4</td><td>2</td><td>NA</td><td>NA</td><td>1</td></tr>\n",
       "\t<tr><td>1</td><td>61</td><td>1</td><td>4</td><td>130</td><td>130</td><td>NA</td><td>0</td><td> 77</td><td>0</td><td>2.5</td><td>2</td><td>NA</td><td>NA</td><td>3</td></tr>\n",
       "\t<tr><td>3</td><td>61</td><td>1</td><td>4</td><td>150</td><td>150</td><td>0 </td><td>0</td><td>105</td><td>1</td><td>0.0</td><td>2</td><td>NA</td><td>7 </td><td>1</td></tr>\n",
       "\t<tr><td>3</td><td>61</td><td>1</td><td>4</td><td>160</td><td>160</td><td>1 </td><td>1</td><td>145</td><td>0</td><td>1.0</td><td>2</td><td>NA</td><td>7 </td><td>2</td></tr>\n",
       "\t<tr><td>3</td><td>63</td><td>1</td><td>4</td><td>150</td><td>150</td><td>NA</td><td>1</td><td>154</td><td>0</td><td>3.7</td><td>1</td><td>NA</td><td>NA</td><td>3</td></tr>\n",
       "\t<tr><td>0</td><td>65</td><td>1</td><td>4</td><td>115</td><td>115</td><td>0 </td><td>0</td><td> 93</td><td>1</td><td>0.0</td><td>2</td><td>NA</td><td>7 </td><td>1</td></tr>\n",
       "\t<tr><td>0</td><td>70</td><td>1</td><td>4</td><td>115</td><td>115</td><td>0 </td><td>1</td><td> 92</td><td>1</td><td>0.0</td><td>2</td><td>NA</td><td>7 </td><td>1</td></tr>\n",
       "\t<tr><td>1</td><td>60</td><td>1</td><td>3</td><td>120</td><td>120</td><td>NA</td><td>0</td><td>141</td><td>1</td><td>2.0</td><td>1</td><td>NA</td><td>NA</td><td>3</td></tr>\n",
       "\t<tr><td>1</td><td>62</td><td>1</td><td>4</td><td>110</td><td>110</td><td>0 </td><td>0</td><td>120</td><td>1</td><td>0.5</td><td>2</td><td>NA</td><td>3 </td><td>1</td></tr>\n",
       "\t<tr><td>0</td><td>58</td><td>1</td><td>4</td><td>116</td><td>116</td><td>0 </td><td>0</td><td>124</td><td>0</td><td>1.0</td><td>1</td><td>NA</td><td>NA</td><td>2</td></tr>\n",
       "\t<tr><td>3</td><td>62</td><td>1</td><td>4</td><td>152</td><td>152</td><td>0 </td><td>1</td><td> 97</td><td>1</td><td>1.6</td><td>1</td><td>NA</td><td>7 </td><td>2</td></tr>\n",
       "\t<tr><td>1</td><td>58</td><td>1</td><td>2</td><td>126</td><td>126</td><td>1 </td><td>0</td><td>110</td><td>1</td><td>2.0</td><td>2</td><td>NA</td><td>NA</td><td>2</td></tr>\n",
       "\t<tr><td>0</td><td>54</td><td>1</td><td>4</td><td>136</td><td>136</td><td>0 </td><td>0</td><td>140</td><td>1</td><td>3.0</td><td>2</td><td>NA</td><td>NA</td><td>3</td></tr>\n",
       "\t<tr><td>0</td><td>49</td><td>1</td><td>1</td><td>130</td><td>130</td><td>0 </td><td>1</td><td>145</td><td>0</td><td>3.0</td><td>2</td><td>NA</td><td>NA</td><td>2</td></tr>\n",
       "\t<tr><td>0</td><td>64</td><td>0</td><td>4</td><td>142</td><td>142</td><td>0 </td><td>0</td><td>140</td><td>1</td><td>1.0</td><td>2</td><td>NA</td><td>7 </td><td>1</td></tr>\n",
       "\t<tr><td>0</td><td>67</td><td>1</td><td>4</td><td>120</td><td>120</td><td>1 </td><td>0</td><td>150</td><td>0</td><td>1.5</td><td>3</td><td>NA</td><td>NA</td><td>3</td></tr>\n",
       "\t<tr><td>0</td><td>43</td><td>1</td><td>4</td><td>122</td><td>122</td><td>0 </td><td>0</td><td>120</td><td>0</td><td>0.5</td><td>1</td><td>NA</td><td>NA</td><td>1</td></tr>\n",
       "\t<tr><td>0</td><td>63</td><td>1</td><td>3</td><td>130</td><td>130</td><td>1 </td><td>1</td><td>160</td><td>0</td><td>3.0</td><td>2</td><td>NA</td><td>NA</td><td>0</td></tr>\n",
       "\t<tr><td>0</td><td>50</td><td>1</td><td>4</td><td>144</td><td>144</td><td>0 </td><td>2</td><td>120</td><td>1</td><td>1.0</td><td>1</td><td>NA</td><td>7 </td><td>1</td></tr>\n",
       "\t<tr><td>1</td><td>59</td><td>1</td><td>4</td><td>124</td><td>124</td><td>0 </td><td>0</td><td>117</td><td>1</td><td>1.0</td><td>2</td><td>NA</td><td>NA</td><td>1</td></tr>\n",
       "\t<tr><td>2</td><td>59</td><td>1</td><td>4</td><td>140</td><td>140</td><td>0 </td><td>0</td><td>154</td><td>1</td><td>2.0</td><td>2</td><td>NA</td><td>NA</td><td>0</td></tr>\n",
       "\t<tr><td>0</td><td>41</td><td>1</td><td>4</td><td>150</td><td>150</td><td>0 </td><td>0</td><td>128</td><td>1</td><td>1.5</td><td>2</td><td>NA</td><td>NA</td><td>0</td></tr>\n",
       "\t<tr><td>0</td><td>38</td><td>1</td><td>4</td><td>110</td><td>110</td><td>0 </td><td>0</td><td>105</td><td>1</td><td>1.5</td><td>3</td><td>NA</td><td>NA</td><td>1</td></tr>\n",
       "\t<tr><td>1</td><td>55</td><td>1</td><td>4</td><td>158</td><td>158</td><td>0 </td><td>0</td><td>110</td><td>1</td><td>2.5</td><td>2</td><td>NA</td><td>NA</td><td>1</td></tr>\n",
       "\t<tr><td>1</td><td>57</td><td>1</td><td>4</td><td>156</td><td>156</td><td>0 </td><td>2</td><td>119</td><td>1</td><td>3.0</td><td>3</td><td>NA</td><td>NA</td><td>3</td></tr>\n",
       "\t<tr><td>0</td><td>48</td><td>1</td><td>4</td><td>140</td><td>140</td><td>0 </td><td>0</td><td>159</td><td>1</td><td>1.5</td><td>1</td><td>NA</td><td>NA</td><td>3</td></tr>\n",
       "\t<tr><td>0</td><td>53</td><td>1</td><td>4</td><td>124</td><td>124</td><td>0 </td><td>0</td><td>122</td><td>1</td><td>2.0</td><td>2</td><td>NA</td><td>7 </td><td>1</td></tr>\n",
       "\t<tr><td>1</td><td>57</td><td>1</td><td>4</td><td>130</td><td>130</td><td>0 </td><td>1</td><td> 96</td><td>1</td><td>1.0</td><td>2</td><td>NA</td><td>NA</td><td>0</td></tr>\n",
       "\t<tr><td>0</td><td>74</td><td>1</td><td>4</td><td>155</td><td>155</td><td>0 </td><td>0</td><td>112</td><td>1</td><td>1.5</td><td>3</td><td>NA</td><td>NA</td><td>2</td></tr>\n",
       "</tbody>\n",
       "</table>\n"
      ],
      "text/latex": [
       "A tibble: 129 × 15\n",
       "\\begin{tabular}{lllllllllllllll}\n",
       " .pred\\_class & age & sex & cp & trestbps & chol & fbs & restecg & thalach & exang & oldspeak & slope & ca & thal & class\\\\\n",
       " <fct> & <dbl> & <fct> & <fct> & <dbl> & <dbl> & <fct> & <fct> & <dbl> & <fct> & <dbl> & <dbl> & <fct> & <fct> & <fct>\\\\\n",
       "\\hline\n",
       "\t 0 & 37 & 1 & 3 & 130 & 130 & 0.0 & 0.0 & 187 & 0.0 & 3.5 & 3 & 0.0 & 3.0 & 0\\\\\n",
       "\t 0 & 53 & 1 & 4 & 140 & 140 & 1.0 & 2.0 & 155 & 1.0 & 3.1 & 3 & 0.0 & 7.0 & 1\\\\\n",
       "\t 1 & 52 & 1 & 3 & 172 & 172 & 1.0 & 0.0 & 162 & 0.0 & 0.5 & 1 & 0.0 & 7.0 & 0\\\\\n",
       "\t 0 & 57 & 1 & 3 & 150 & 150 & 0.0 & 0.0 & 174 & 0.0 & 1.6 & 1 & 0.0 & 3.0 & 0\\\\\n",
       "\t 0 & 48 & 1 & 2 & 110 & 110 & 0.0 & 0.0 & 168 & 0.0 & 1.0 & 3 & 0.0 & 7.0 & 1\\\\\n",
       "\t 2 & 59 & 1 & 4 & 135 & 135 & 0.0 & 0.0 & 161 & 0.0 & 0.5 & 2 & 0.0 & 7.0 & 0\\\\\n",
       "\t 0 & 44 & 1 & 3 & 130 & 130 & 0.0 & 0.0 & 179 & 1.0 & 0.4 & 1 & 0.0 & 3.0 & 0\\\\\n",
       "\t 0 & 65 & 0 & 4 & 150 & 150 & 0.0 & 2.0 & 114 & 0.0 & 1.0 & 2 & 3.0 & 7.0 & 4\\\\\n",
       "\t 0 & 40 & 1 & 1 & 140 & 140 & 0.0 & 0.0 & 178 & 1.0 & 1.4 & 1 & 0.0 & 7.0 & 0\\\\\n",
       "\t 1 & 59 & 1 & 3 & 150 & 150 & 1.0 & 0.0 & 157 & 0.0 & 1.6 & 1 & 0.0 & 3.0 & 0\\\\\n",
       "\t 2 & 58 & 1 & 3 & 112 & 112 & 0.0 & 2.0 & 165 & 0.0 & 2.5 & 2 & 1.0 & 7.0 & 4\\\\\n",
       "\t 0 & 51 & 0 & 4 & 130 & 130 & 0.0 & 0.0 & 142 & 1.0 & 1.2 & 2 & 0.0 & 7.0 & 2\\\\\n",
       "\t 0 & 54 & 0 & 3 & 135 & 135 & 1.0 & 0.0 & 170 & 0.0 & 0.0 & 1 & 0.0 & 3.0 & 0\\\\\n",
       "\t 2 & 60 & 1 & 4 & 145 & 145 & 0.0 & 2.0 & 142 & 1.0 & 2.8 & 2 & 2.0 & 7.0 & 2\\\\\n",
       "\t 1 & 62 & 1 & 4 & 120 & 120 & 0.0 & 0.0 &  99 & 1.0 & 1.8 & 2 & 2.0 & 7.0 & 1\\\\\n",
       "\t 1 & 60 & 1 & 4 & 125 & 125 & 0.0 & 2.0 & 141 & 1.0 & 2.8 & 2 & 1.0 & 7.0 & 1\\\\\n",
       "\t 0 & 45 & 1 & 4 & 104 & 104 & 0.0 & 2.0 & 148 & 1.0 & 3.0 & 2 & 0.0 & 3.0 & 0\\\\\n",
       "\t 2 & 68 & 1 & 3 & 180 & 180 & 1.0 & 2.0 & 150 & 1.0 & 1.6 & 2 & 0.0 & 7.0 & 3\\\\\n",
       "\t 0 & 44 & 1 & 3 & 140 & 140 & 0.0 & 2.0 & 180 & 0.0 & 0.0 & 1 & 0.0 & 3.0 & 0\\\\\n",
       "\t 0 & 53 & 0 & 3 & 128 & 128 & 0.0 & 2.0 & 115 & 0.0 & 0.0 & 1 & 0.0 & NA  & 0\\\\\n",
       "\t 0 & 53 & 0 & 4 & 138 & 138 & 0.0 & 2.0 & 160 & 0.0 & 0.0 & 1 & 0.0 & 3.0 & 0\\\\\n",
       "\t 0 & 48 & 1 & 4 & 122 & 122 & 0.0 & 2.0 & 186 & 0.0 & 0.0 & 1 & 0.0 & 3.0 & 0\\\\\n",
       "\t 0 & 45 & 1 & 4 & 115 & 115 & 0.0 & 2.0 & 185 & 0.0 & 0.0 & 1 & 0.0 & 3.0 & 0\\\\\n",
       "\t 0 & 54 & 1 & 2 & 108 & 108 & 0.0 & 0.0 & 156 & 0.0 & 0.0 & 1 & 0.0 & 7.0 & 0\\\\\n",
       "\t 0 & 39 & 1 & 4 & 118 & 118 & 0.0 & 0.0 & 140 & 0.0 & 1.2 & 2 & 0.0 & 7.0 & 3\\\\\n",
       "\t 0 & 43 & 0 & 4 & 132 & 132 & 1.0 & 2.0 & 136 & 1.0 & 3.0 & 2 & 0.0 & 7.0 & 2\\\\\n",
       "\t 2 & 58 & 1 & 3 & 140 & 140 & 1.0 & 2.0 & 165 & 0.0 & 0.0 & 1 & 0.0 & 3.0 & 0\\\\\n",
       "\t 0 & 35 & 0 & 4 & 138 & 138 & 0.0 & 0.0 & 182 & 0.0 & 1.4 & 1 & 0.0 & 3.0 & 0\\\\\n",
       "\t 0 & 63 & 1 & 4 & 130 & 130 & 1.0 & 2.0 & 132 & 1.0 & 1.8 & 1 & 3.0 & 7.0 & 3\\\\\n",
       "\t 3 & 63 & 0 & 4 & 150 & 150 & 0.0 & 2.0 & 154 & 0.0 & 4.0 & 2 & 3.0 & 7.0 & 4\\\\\n",
       "\t ⋮ & ⋮ & ⋮ & ⋮ & ⋮ & ⋮ & ⋮ & ⋮ & ⋮ & ⋮ & ⋮ & ⋮ & ⋮ & ⋮ & ⋮\\\\\n",
       "\t 3 & 60 & 1 & 4 & 160 & 160 & NA & 0 & 149 & 0 & 0.4 & 2 & NA & NA & 1\\\\\n",
       "\t 2 & 61 & 1 & 4 & 110 & 110 & NA & 0 & 113 & 0 & 1.4 & 2 & NA & NA & 1\\\\\n",
       "\t 1 & 61 & 1 & 4 & 130 & 130 & NA & 0 &  77 & 0 & 2.5 & 2 & NA & NA & 3\\\\\n",
       "\t 3 & 61 & 1 & 4 & 150 & 150 & 0  & 0 & 105 & 1 & 0.0 & 2 & NA & 7  & 1\\\\\n",
       "\t 3 & 61 & 1 & 4 & 160 & 160 & 1  & 1 & 145 & 0 & 1.0 & 2 & NA & 7  & 2\\\\\n",
       "\t 3 & 63 & 1 & 4 & 150 & 150 & NA & 1 & 154 & 0 & 3.7 & 1 & NA & NA & 3\\\\\n",
       "\t 0 & 65 & 1 & 4 & 115 & 115 & 0  & 0 &  93 & 1 & 0.0 & 2 & NA & 7  & 1\\\\\n",
       "\t 0 & 70 & 1 & 4 & 115 & 115 & 0  & 1 &  92 & 1 & 0.0 & 2 & NA & 7  & 1\\\\\n",
       "\t 1 & 60 & 1 & 3 & 120 & 120 & NA & 0 & 141 & 1 & 2.0 & 1 & NA & NA & 3\\\\\n",
       "\t 1 & 62 & 1 & 4 & 110 & 110 & 0  & 0 & 120 & 1 & 0.5 & 2 & NA & 3  & 1\\\\\n",
       "\t 0 & 58 & 1 & 4 & 116 & 116 & 0  & 0 & 124 & 0 & 1.0 & 1 & NA & NA & 2\\\\\n",
       "\t 3 & 62 & 1 & 4 & 152 & 152 & 0  & 1 &  97 & 1 & 1.6 & 1 & NA & 7  & 2\\\\\n",
       "\t 1 & 58 & 1 & 2 & 126 & 126 & 1  & 0 & 110 & 1 & 2.0 & 2 & NA & NA & 2\\\\\n",
       "\t 0 & 54 & 1 & 4 & 136 & 136 & 0  & 0 & 140 & 1 & 3.0 & 2 & NA & NA & 3\\\\\n",
       "\t 0 & 49 & 1 & 1 & 130 & 130 & 0  & 1 & 145 & 0 & 3.0 & 2 & NA & NA & 2\\\\\n",
       "\t 0 & 64 & 0 & 4 & 142 & 142 & 0  & 0 & 140 & 1 & 1.0 & 2 & NA & 7  & 1\\\\\n",
       "\t 0 & 67 & 1 & 4 & 120 & 120 & 1  & 0 & 150 & 0 & 1.5 & 3 & NA & NA & 3\\\\\n",
       "\t 0 & 43 & 1 & 4 & 122 & 122 & 0  & 0 & 120 & 0 & 0.5 & 1 & NA & NA & 1\\\\\n",
       "\t 0 & 63 & 1 & 3 & 130 & 130 & 1  & 1 & 160 & 0 & 3.0 & 2 & NA & NA & 0\\\\\n",
       "\t 0 & 50 & 1 & 4 & 144 & 144 & 0  & 2 & 120 & 1 & 1.0 & 1 & NA & 7  & 1\\\\\n",
       "\t 1 & 59 & 1 & 4 & 124 & 124 & 0  & 0 & 117 & 1 & 1.0 & 2 & NA & NA & 1\\\\\n",
       "\t 2 & 59 & 1 & 4 & 140 & 140 & 0  & 0 & 154 & 1 & 2.0 & 2 & NA & NA & 0\\\\\n",
       "\t 0 & 41 & 1 & 4 & 150 & 150 & 0  & 0 & 128 & 1 & 1.5 & 2 & NA & NA & 0\\\\\n",
       "\t 0 & 38 & 1 & 4 & 110 & 110 & 0  & 0 & 105 & 1 & 1.5 & 3 & NA & NA & 1\\\\\n",
       "\t 1 & 55 & 1 & 4 & 158 & 158 & 0  & 0 & 110 & 1 & 2.5 & 2 & NA & NA & 1\\\\\n",
       "\t 1 & 57 & 1 & 4 & 156 & 156 & 0  & 2 & 119 & 1 & 3.0 & 3 & NA & NA & 3\\\\\n",
       "\t 0 & 48 & 1 & 4 & 140 & 140 & 0  & 0 & 159 & 1 & 1.5 & 1 & NA & NA & 3\\\\\n",
       "\t 0 & 53 & 1 & 4 & 124 & 124 & 0  & 0 & 122 & 1 & 2.0 & 2 & NA & 7  & 1\\\\\n",
       "\t 1 & 57 & 1 & 4 & 130 & 130 & 0  & 1 &  96 & 1 & 1.0 & 2 & NA & NA & 0\\\\\n",
       "\t 0 & 74 & 1 & 4 & 155 & 155 & 0  & 0 & 112 & 1 & 1.5 & 3 & NA & NA & 2\\\\\n",
       "\\end{tabular}\n"
      ],
      "text/markdown": [
       "\n",
       "A tibble: 129 × 15\n",
       "\n",
       "| .pred_class &lt;fct&gt; | age &lt;dbl&gt; | sex &lt;fct&gt; | cp &lt;fct&gt; | trestbps &lt;dbl&gt; | chol &lt;dbl&gt; | fbs &lt;fct&gt; | restecg &lt;fct&gt; | thalach &lt;dbl&gt; | exang &lt;fct&gt; | oldspeak &lt;dbl&gt; | slope &lt;dbl&gt; | ca &lt;fct&gt; | thal &lt;fct&gt; | class &lt;fct&gt; |\n",
       "|---|---|---|---|---|---|---|---|---|---|---|---|---|---|---|\n",
       "| 0 | 37 | 1 | 3 | 130 | 130 | 0.0 | 0.0 | 187 | 0.0 | 3.5 | 3 | 0.0 | 3.0 | 0 |\n",
       "| 0 | 53 | 1 | 4 | 140 | 140 | 1.0 | 2.0 | 155 | 1.0 | 3.1 | 3 | 0.0 | 7.0 | 1 |\n",
       "| 1 | 52 | 1 | 3 | 172 | 172 | 1.0 | 0.0 | 162 | 0.0 | 0.5 | 1 | 0.0 | 7.0 | 0 |\n",
       "| 0 | 57 | 1 | 3 | 150 | 150 | 0.0 | 0.0 | 174 | 0.0 | 1.6 | 1 | 0.0 | 3.0 | 0 |\n",
       "| 0 | 48 | 1 | 2 | 110 | 110 | 0.0 | 0.0 | 168 | 0.0 | 1.0 | 3 | 0.0 | 7.0 | 1 |\n",
       "| 2 | 59 | 1 | 4 | 135 | 135 | 0.0 | 0.0 | 161 | 0.0 | 0.5 | 2 | 0.0 | 7.0 | 0 |\n",
       "| 0 | 44 | 1 | 3 | 130 | 130 | 0.0 | 0.0 | 179 | 1.0 | 0.4 | 1 | 0.0 | 3.0 | 0 |\n",
       "| 0 | 65 | 0 | 4 | 150 | 150 | 0.0 | 2.0 | 114 | 0.0 | 1.0 | 2 | 3.0 | 7.0 | 4 |\n",
       "| 0 | 40 | 1 | 1 | 140 | 140 | 0.0 | 0.0 | 178 | 1.0 | 1.4 | 1 | 0.0 | 7.0 | 0 |\n",
       "| 1 | 59 | 1 | 3 | 150 | 150 | 1.0 | 0.0 | 157 | 0.0 | 1.6 | 1 | 0.0 | 3.0 | 0 |\n",
       "| 2 | 58 | 1 | 3 | 112 | 112 | 0.0 | 2.0 | 165 | 0.0 | 2.5 | 2 | 1.0 | 7.0 | 4 |\n",
       "| 0 | 51 | 0 | 4 | 130 | 130 | 0.0 | 0.0 | 142 | 1.0 | 1.2 | 2 | 0.0 | 7.0 | 2 |\n",
       "| 0 | 54 | 0 | 3 | 135 | 135 | 1.0 | 0.0 | 170 | 0.0 | 0.0 | 1 | 0.0 | 3.0 | 0 |\n",
       "| 2 | 60 | 1 | 4 | 145 | 145 | 0.0 | 2.0 | 142 | 1.0 | 2.8 | 2 | 2.0 | 7.0 | 2 |\n",
       "| 1 | 62 | 1 | 4 | 120 | 120 | 0.0 | 0.0 |  99 | 1.0 | 1.8 | 2 | 2.0 | 7.0 | 1 |\n",
       "| 1 | 60 | 1 | 4 | 125 | 125 | 0.0 | 2.0 | 141 | 1.0 | 2.8 | 2 | 1.0 | 7.0 | 1 |\n",
       "| 0 | 45 | 1 | 4 | 104 | 104 | 0.0 | 2.0 | 148 | 1.0 | 3.0 | 2 | 0.0 | 3.0 | 0 |\n",
       "| 2 | 68 | 1 | 3 | 180 | 180 | 1.0 | 2.0 | 150 | 1.0 | 1.6 | 2 | 0.0 | 7.0 | 3 |\n",
       "| 0 | 44 | 1 | 3 | 140 | 140 | 0.0 | 2.0 | 180 | 0.0 | 0.0 | 1 | 0.0 | 3.0 | 0 |\n",
       "| 0 | 53 | 0 | 3 | 128 | 128 | 0.0 | 2.0 | 115 | 0.0 | 0.0 | 1 | 0.0 | NA  | 0 |\n",
       "| 0 | 53 | 0 | 4 | 138 | 138 | 0.0 | 2.0 | 160 | 0.0 | 0.0 | 1 | 0.0 | 3.0 | 0 |\n",
       "| 0 | 48 | 1 | 4 | 122 | 122 | 0.0 | 2.0 | 186 | 0.0 | 0.0 | 1 | 0.0 | 3.0 | 0 |\n",
       "| 0 | 45 | 1 | 4 | 115 | 115 | 0.0 | 2.0 | 185 | 0.0 | 0.0 | 1 | 0.0 | 3.0 | 0 |\n",
       "| 0 | 54 | 1 | 2 | 108 | 108 | 0.0 | 0.0 | 156 | 0.0 | 0.0 | 1 | 0.0 | 7.0 | 0 |\n",
       "| 0 | 39 | 1 | 4 | 118 | 118 | 0.0 | 0.0 | 140 | 0.0 | 1.2 | 2 | 0.0 | 7.0 | 3 |\n",
       "| 0 | 43 | 0 | 4 | 132 | 132 | 1.0 | 2.0 | 136 | 1.0 | 3.0 | 2 | 0.0 | 7.0 | 2 |\n",
       "| 2 | 58 | 1 | 3 | 140 | 140 | 1.0 | 2.0 | 165 | 0.0 | 0.0 | 1 | 0.0 | 3.0 | 0 |\n",
       "| 0 | 35 | 0 | 4 | 138 | 138 | 0.0 | 0.0 | 182 | 0.0 | 1.4 | 1 | 0.0 | 3.0 | 0 |\n",
       "| 0 | 63 | 1 | 4 | 130 | 130 | 1.0 | 2.0 | 132 | 1.0 | 1.8 | 1 | 3.0 | 7.0 | 3 |\n",
       "| 3 | 63 | 0 | 4 | 150 | 150 | 0.0 | 2.0 | 154 | 0.0 | 4.0 | 2 | 3.0 | 7.0 | 4 |\n",
       "| ⋮ | ⋮ | ⋮ | ⋮ | ⋮ | ⋮ | ⋮ | ⋮ | ⋮ | ⋮ | ⋮ | ⋮ | ⋮ | ⋮ | ⋮ |\n",
       "| 3 | 60 | 1 | 4 | 160 | 160 | NA | 0 | 149 | 0 | 0.4 | 2 | NA | NA | 1 |\n",
       "| 2 | 61 | 1 | 4 | 110 | 110 | NA | 0 | 113 | 0 | 1.4 | 2 | NA | NA | 1 |\n",
       "| 1 | 61 | 1 | 4 | 130 | 130 | NA | 0 |  77 | 0 | 2.5 | 2 | NA | NA | 3 |\n",
       "| 3 | 61 | 1 | 4 | 150 | 150 | 0  | 0 | 105 | 1 | 0.0 | 2 | NA | 7  | 1 |\n",
       "| 3 | 61 | 1 | 4 | 160 | 160 | 1  | 1 | 145 | 0 | 1.0 | 2 | NA | 7  | 2 |\n",
       "| 3 | 63 | 1 | 4 | 150 | 150 | NA | 1 | 154 | 0 | 3.7 | 1 | NA | NA | 3 |\n",
       "| 0 | 65 | 1 | 4 | 115 | 115 | 0  | 0 |  93 | 1 | 0.0 | 2 | NA | 7  | 1 |\n",
       "| 0 | 70 | 1 | 4 | 115 | 115 | 0  | 1 |  92 | 1 | 0.0 | 2 | NA | 7  | 1 |\n",
       "| 1 | 60 | 1 | 3 | 120 | 120 | NA | 0 | 141 | 1 | 2.0 | 1 | NA | NA | 3 |\n",
       "| 1 | 62 | 1 | 4 | 110 | 110 | 0  | 0 | 120 | 1 | 0.5 | 2 | NA | 3  | 1 |\n",
       "| 0 | 58 | 1 | 4 | 116 | 116 | 0  | 0 | 124 | 0 | 1.0 | 1 | NA | NA | 2 |\n",
       "| 3 | 62 | 1 | 4 | 152 | 152 | 0  | 1 |  97 | 1 | 1.6 | 1 | NA | 7  | 2 |\n",
       "| 1 | 58 | 1 | 2 | 126 | 126 | 1  | 0 | 110 | 1 | 2.0 | 2 | NA | NA | 2 |\n",
       "| 0 | 54 | 1 | 4 | 136 | 136 | 0  | 0 | 140 | 1 | 3.0 | 2 | NA | NA | 3 |\n",
       "| 0 | 49 | 1 | 1 | 130 | 130 | 0  | 1 | 145 | 0 | 3.0 | 2 | NA | NA | 2 |\n",
       "| 0 | 64 | 0 | 4 | 142 | 142 | 0  | 0 | 140 | 1 | 1.0 | 2 | NA | 7  | 1 |\n",
       "| 0 | 67 | 1 | 4 | 120 | 120 | 1  | 0 | 150 | 0 | 1.5 | 3 | NA | NA | 3 |\n",
       "| 0 | 43 | 1 | 4 | 122 | 122 | 0  | 0 | 120 | 0 | 0.5 | 1 | NA | NA | 1 |\n",
       "| 0 | 63 | 1 | 3 | 130 | 130 | 1  | 1 | 160 | 0 | 3.0 | 2 | NA | NA | 0 |\n",
       "| 0 | 50 | 1 | 4 | 144 | 144 | 0  | 2 | 120 | 1 | 1.0 | 1 | NA | 7  | 1 |\n",
       "| 1 | 59 | 1 | 4 | 124 | 124 | 0  | 0 | 117 | 1 | 1.0 | 2 | NA | NA | 1 |\n",
       "| 2 | 59 | 1 | 4 | 140 | 140 | 0  | 0 | 154 | 1 | 2.0 | 2 | NA | NA | 0 |\n",
       "| 0 | 41 | 1 | 4 | 150 | 150 | 0  | 0 | 128 | 1 | 1.5 | 2 | NA | NA | 0 |\n",
       "| 0 | 38 | 1 | 4 | 110 | 110 | 0  | 0 | 105 | 1 | 1.5 | 3 | NA | NA | 1 |\n",
       "| 1 | 55 | 1 | 4 | 158 | 158 | 0  | 0 | 110 | 1 | 2.5 | 2 | NA | NA | 1 |\n",
       "| 1 | 57 | 1 | 4 | 156 | 156 | 0  | 2 | 119 | 1 | 3.0 | 3 | NA | NA | 3 |\n",
       "| 0 | 48 | 1 | 4 | 140 | 140 | 0  | 0 | 159 | 1 | 1.5 | 1 | NA | NA | 3 |\n",
       "| 0 | 53 | 1 | 4 | 124 | 124 | 0  | 0 | 122 | 1 | 2.0 | 2 | NA | 7  | 1 |\n",
       "| 1 | 57 | 1 | 4 | 130 | 130 | 0  | 1 |  96 | 1 | 1.0 | 2 | NA | NA | 0 |\n",
       "| 0 | 74 | 1 | 4 | 155 | 155 | 0  | 0 | 112 | 1 | 1.5 | 3 | NA | NA | 2 |\n",
       "\n"
      ],
      "text/plain": [
       "    .pred_class age sex cp trestbps chol fbs restecg thalach exang oldspeak\n",
       "1   0           37  1   3  130      130  0.0 0.0     187     0.0   3.5     \n",
       "2   0           53  1   4  140      140  1.0 2.0     155     1.0   3.1     \n",
       "3   1           52  1   3  172      172  1.0 0.0     162     0.0   0.5     \n",
       "4   0           57  1   3  150      150  0.0 0.0     174     0.0   1.6     \n",
       "5   0           48  1   2  110      110  0.0 0.0     168     0.0   1.0     \n",
       "6   2           59  1   4  135      135  0.0 0.0     161     0.0   0.5     \n",
       "7   0           44  1   3  130      130  0.0 0.0     179     1.0   0.4     \n",
       "8   0           65  0   4  150      150  0.0 2.0     114     0.0   1.0     \n",
       "9   0           40  1   1  140      140  0.0 0.0     178     1.0   1.4     \n",
       "10  1           59  1   3  150      150  1.0 0.0     157     0.0   1.6     \n",
       "11  2           58  1   3  112      112  0.0 2.0     165     0.0   2.5     \n",
       "12  0           51  0   4  130      130  0.0 0.0     142     1.0   1.2     \n",
       "13  0           54  0   3  135      135  1.0 0.0     170     0.0   0.0     \n",
       "14  2           60  1   4  145      145  0.0 2.0     142     1.0   2.8     \n",
       "15  1           62  1   4  120      120  0.0 0.0      99     1.0   1.8     \n",
       "16  1           60  1   4  125      125  0.0 2.0     141     1.0   2.8     \n",
       "17  0           45  1   4  104      104  0.0 2.0     148     1.0   3.0     \n",
       "18  2           68  1   3  180      180  1.0 2.0     150     1.0   1.6     \n",
       "19  0           44  1   3  140      140  0.0 2.0     180     0.0   0.0     \n",
       "20  0           53  0   3  128      128  0.0 2.0     115     0.0   0.0     \n",
       "21  0           53  0   4  138      138  0.0 2.0     160     0.0   0.0     \n",
       "22  0           48  1   4  122      122  0.0 2.0     186     0.0   0.0     \n",
       "23  0           45  1   4  115      115  0.0 2.0     185     0.0   0.0     \n",
       "24  0           54  1   2  108      108  0.0 0.0     156     0.0   0.0     \n",
       "25  0           39  1   4  118      118  0.0 0.0     140     0.0   1.2     \n",
       "26  0           43  0   4  132      132  1.0 2.0     136     1.0   3.0     \n",
       "27  2           58  1   3  140      140  1.0 2.0     165     0.0   0.0     \n",
       "28  0           35  0   4  138      138  0.0 0.0     182     0.0   1.4     \n",
       "29  0           63  1   4  130      130  1.0 2.0     132     1.0   1.8     \n",
       "30  3           63  0   4  150      150  0.0 2.0     154     0.0   4.0     \n",
       "⋮   ⋮           ⋮   ⋮   ⋮  ⋮        ⋮    ⋮   ⋮       ⋮       ⋮     ⋮       \n",
       "100 3           60  1   4  160      160  NA  0       149     0     0.4     \n",
       "101 2           61  1   4  110      110  NA  0       113     0     1.4     \n",
       "102 1           61  1   4  130      130  NA  0        77     0     2.5     \n",
       "103 3           61  1   4  150      150  0   0       105     1     0.0     \n",
       "104 3           61  1   4  160      160  1   1       145     0     1.0     \n",
       "105 3           63  1   4  150      150  NA  1       154     0     3.7     \n",
       "106 0           65  1   4  115      115  0   0        93     1     0.0     \n",
       "107 0           70  1   4  115      115  0   1        92     1     0.0     \n",
       "108 1           60  1   3  120      120  NA  0       141     1     2.0     \n",
       "109 1           62  1   4  110      110  0   0       120     1     0.5     \n",
       "110 0           58  1   4  116      116  0   0       124     0     1.0     \n",
       "111 3           62  1   4  152      152  0   1        97     1     1.6     \n",
       "112 1           58  1   2  126      126  1   0       110     1     2.0     \n",
       "113 0           54  1   4  136      136  0   0       140     1     3.0     \n",
       "114 0           49  1   1  130      130  0   1       145     0     3.0     \n",
       "115 0           64  0   4  142      142  0   0       140     1     1.0     \n",
       "116 0           67  1   4  120      120  1   0       150     0     1.5     \n",
       "117 0           43  1   4  122      122  0   0       120     0     0.5     \n",
       "118 0           63  1   3  130      130  1   1       160     0     3.0     \n",
       "119 0           50  1   4  144      144  0   2       120     1     1.0     \n",
       "120 1           59  1   4  124      124  0   0       117     1     1.0     \n",
       "121 2           59  1   4  140      140  0   0       154     1     2.0     \n",
       "122 0           41  1   4  150      150  0   0       128     1     1.5     \n",
       "123 0           38  1   4  110      110  0   0       105     1     1.5     \n",
       "124 1           55  1   4  158      158  0   0       110     1     2.5     \n",
       "125 1           57  1   4  156      156  0   2       119     1     3.0     \n",
       "126 0           48  1   4  140      140  0   0       159     1     1.5     \n",
       "127 0           53  1   4  124      124  0   0       122     1     2.0     \n",
       "128 1           57  1   4  130      130  0   1        96     1     1.0     \n",
       "129 0           74  1   4  155      155  0   0       112     1     1.5     \n",
       "    slope ca  thal class\n",
       "1   3     0.0 3.0  0    \n",
       "2   3     0.0 7.0  1    \n",
       "3   1     0.0 7.0  0    \n",
       "4   1     0.0 3.0  0    \n",
       "5   3     0.0 7.0  1    \n",
       "6   2     0.0 7.0  0    \n",
       "7   1     0.0 3.0  0    \n",
       "8   2     3.0 7.0  4    \n",
       "9   1     0.0 7.0  0    \n",
       "10  1     0.0 3.0  0    \n",
       "11  2     1.0 7.0  4    \n",
       "12  2     0.0 7.0  2    \n",
       "13  1     0.0 3.0  0    \n",
       "14  2     2.0 7.0  2    \n",
       "15  2     2.0 7.0  1    \n",
       "16  2     1.0 7.0  1    \n",
       "17  2     0.0 3.0  0    \n",
       "18  2     0.0 7.0  3    \n",
       "19  1     0.0 3.0  0    \n",
       "20  1     0.0 NA   0    \n",
       "21  1     0.0 3.0  0    \n",
       "22  1     0.0 3.0  0    \n",
       "23  1     0.0 3.0  0    \n",
       "24  1     0.0 7.0  0    \n",
       "25  2     0.0 7.0  3    \n",
       "26  2     0.0 7.0  2    \n",
       "27  1     0.0 3.0  0    \n",
       "28  1     0.0 3.0  0    \n",
       "29  1     3.0 7.0  3    \n",
       "30  2     3.0 7.0  4    \n",
       "⋮   ⋮     ⋮   ⋮    ⋮    \n",
       "100 2     NA  NA   1    \n",
       "101 2     NA  NA   1    \n",
       "102 2     NA  NA   3    \n",
       "103 2     NA  7    1    \n",
       "104 2     NA  7    2    \n",
       "105 1     NA  NA   3    \n",
       "106 2     NA  7    1    \n",
       "107 2     NA  7    1    \n",
       "108 1     NA  NA   3    \n",
       "109 2     NA  3    1    \n",
       "110 1     NA  NA   2    \n",
       "111 1     NA  7    2    \n",
       "112 2     NA  NA   2    \n",
       "113 2     NA  NA   3    \n",
       "114 2     NA  NA   2    \n",
       "115 2     NA  7    1    \n",
       "116 3     NA  NA   3    \n",
       "117 1     NA  NA   1    \n",
       "118 2     NA  NA   0    \n",
       "119 1     NA  7    1    \n",
       "120 2     NA  NA   1    \n",
       "121 2     NA  NA   0    \n",
       "122 2     NA  NA   0    \n",
       "123 3     NA  NA   1    \n",
       "124 2     NA  NA   1    \n",
       "125 3     NA  NA   3    \n",
       "126 1     NA  NA   3    \n",
       "127 2     NA  7    1    \n",
       "128 2     NA  NA   0    \n",
       "129 3     NA  NA   2    "
      ]
     },
     "metadata": {},
     "output_type": "display_data"
    }
   ],
   "source": [
    "#Retraining the model with best k \n",
    "\n",
    "knn_spec_best <- nearest_neighbor(weight_func = 'rectangular', neighbors = best_k) |>\n",
    "                 set_engine(\"kknn\") |>\n",
    "                 set_mode(\"classification\")\n",
    "\n",
    "#Creating the workflow and fitting the model to the training dataset\n",
    "knn_fit <- workflow() |>\n",
    "           add_recipe(heart_disease_recipe) |>\n",
    "           add_model(knn_spec_best) |>\n",
    "           fit(data = heart_disease_train)  \n",
    "\n",
    "#making the predictions and \n",
    "heart_disease_predictions <- knn_fit |>\n",
    "                             predict(heart_disease_test) |>\n",
    "                             bind_cols(heart_disease_test)\n",
    "\n",
    "#computing the accuracy of the classifier\n",
    "\n",
    "\n",
    "accuracy <- heart_disease_predictions |>\n",
    "            metrics(truth = class, estimate = .pred_class)|>\n",
    "            filter(.metric == \"accuracy\") \n",
    "\n",
    "heart_disease_predictions "
   ]
  },
  {
   "cell_type": "markdown",
   "id": "e97264a8-7ab0-4dc9-b8ec-325fe00b3f4f",
   "metadata": {},
   "source": [
    "Confusion Matrix: "
   ]
  },
  {
   "cell_type": "code",
   "execution_count": 47,
   "id": "d1630cf3-c919-427a-8071-3527b24f234c",
   "metadata": {},
   "outputs": [
    {
     "data": {
      "text/plain": [
       "          Truth\n",
       "Prediction  0  1  2  3  4\n",
       "         0 24 12 13  8  4\n",
       "         1  9 11  6  6  0\n",
       "         2  7  5  1  2  0\n",
       "         3  7  2  2  2  2\n",
       "         4  1  2  1  1  1"
      ]
     },
     "metadata": {},
     "output_type": "display_data"
    },
    {
     "data": {
      "text/html": [
       "<table class=\"dataframe\">\n",
       "<caption>A tibble: 5 × 2</caption>\n",
       "<thead>\n",
       "\t<tr><th scope=col>class</th><th scope=col>count</th></tr>\n",
       "\t<tr><th scope=col>&lt;fct&gt;</th><th scope=col>&lt;int&gt;</th></tr>\n",
       "</thead>\n",
       "<tbody>\n",
       "\t<tr><td>0</td><td>48</td></tr>\n",
       "\t<tr><td>1</td><td>32</td></tr>\n",
       "\t<tr><td>2</td><td>23</td></tr>\n",
       "\t<tr><td>3</td><td>19</td></tr>\n",
       "\t<tr><td>4</td><td> 7</td></tr>\n",
       "</tbody>\n",
       "</table>\n"
      ],
      "text/latex": [
       "A tibble: 5 × 2\n",
       "\\begin{tabular}{ll}\n",
       " class & count\\\\\n",
       " <fct> & <int>\\\\\n",
       "\\hline\n",
       "\t 0 & 48\\\\\n",
       "\t 1 & 32\\\\\n",
       "\t 2 & 23\\\\\n",
       "\t 3 & 19\\\\\n",
       "\t 4 &  7\\\\\n",
       "\\end{tabular}\n"
      ],
      "text/markdown": [
       "\n",
       "A tibble: 5 × 2\n",
       "\n",
       "| class &lt;fct&gt; | count &lt;int&gt; |\n",
       "|---|---|\n",
       "| 0 | 48 |\n",
       "| 1 | 32 |\n",
       "| 2 | 23 |\n",
       "| 3 | 19 |\n",
       "| 4 |  7 |\n",
       "\n"
      ],
      "text/plain": [
       "  class count\n",
       "1 0     48   \n",
       "2 1     32   \n",
       "3 2     23   \n",
       "4 3     19   \n",
       "5 4      7   "
      ]
     },
     "metadata": {},
     "output_type": "display_data"
    }
   ],
   "source": [
    "conf_mat( heart_disease_predictions, truth = class, estimate = .pred_class)\n",
    "\n",
    "num_classes <- heart_disease_predictions |>\n",
    "               group_by(class) |>\n",
    "               summarize(count = n())\n",
    "num_classes\n",
    "\n",
    "num_0 <- num_classes |> filter(class == 0) |> pull(count)\n",
    "num_1 <- num_classes |> filter(class == 1) |> pull(count)\n",
    "num_2 <- num_classes |> filter(class == 2) |> pull(count)\n",
    "num_3 <- num_classes |> filter(class == 3) |> pull(count)\n",
    "num_4 <- num_classes |> filter(class == 4) |> pull(count)"
   ]
  },
  {
   "cell_type": "code",
   "execution_count": 48,
   "id": "6c9707f4-9e66-478c-a1ff-1f80ad236a59",
   "metadata": {},
   "outputs": [
    {
     "data": {
      "text/html": [
       "<table class=\"dataframe\">\n",
       "<caption>A tibble: 5 × 3</caption>\n",
       "<thead>\n",
       "\t<tr><th scope=col>class</th><th scope=col>count</th><th scope=col>percentage</th></tr>\n",
       "\t<tr><th scope=col>&lt;fct&gt;</th><th scope=col>&lt;int&gt;</th><th scope=col>&lt;dbl&gt;</th></tr>\n",
       "</thead>\n",
       "<tbody>\n",
       "\t<tr><td>0</td><td>24</td><td>18.6046512</td></tr>\n",
       "\t<tr><td>1</td><td>11</td><td> 8.5271318</td></tr>\n",
       "\t<tr><td>2</td><td> 1</td><td> 0.7751938</td></tr>\n",
       "\t<tr><td>3</td><td> 2</td><td> 1.5503876</td></tr>\n",
       "\t<tr><td>4</td><td> 1</td><td> 0.7751938</td></tr>\n",
       "</tbody>\n",
       "</table>\n"
      ],
      "text/latex": [
       "A tibble: 5 × 3\n",
       "\\begin{tabular}{lll}\n",
       " class & count & percentage\\\\\n",
       " <fct> & <int> & <dbl>\\\\\n",
       "\\hline\n",
       "\t 0 & 24 & 18.6046512\\\\\n",
       "\t 1 & 11 &  8.5271318\\\\\n",
       "\t 2 &  1 &  0.7751938\\\\\n",
       "\t 3 &  2 &  1.5503876\\\\\n",
       "\t 4 &  1 &  0.7751938\\\\\n",
       "\\end{tabular}\n"
      ],
      "text/markdown": [
       "\n",
       "A tibble: 5 × 3\n",
       "\n",
       "| class &lt;fct&gt; | count &lt;int&gt; | percentage &lt;dbl&gt; |\n",
       "|---|---|---|\n",
       "| 0 | 24 | 18.6046512 |\n",
       "| 1 | 11 |  8.5271318 |\n",
       "| 2 |  1 |  0.7751938 |\n",
       "| 3 |  2 |  1.5503876 |\n",
       "| 4 |  1 |  0.7751938 |\n",
       "\n"
      ],
      "text/plain": [
       "  class count percentage\n",
       "1 0     24    18.6046512\n",
       "2 1     11     8.5271318\n",
       "3 2      1     0.7751938\n",
       "4 3      2     1.5503876\n",
       "5 4      1     0.7751938"
      ]
     },
     "metadata": {},
     "output_type": "display_data"
    }
   ],
   "source": [
    "true_predictions <- heart_disease_predictions |> filter(class == .pred_class)\n",
    "\n",
    "accuracy_predictions_by_class <- heart_disease_predictions |>\n",
    "                                 select(.pred_class, class) |>\n",
    "                                 filter(class == .pred_class) |>\n",
    "                                 group_by(class) |>\n",
    "                                 summarize(count = n()) \n",
    "\n",
    "total_count <- num_classes |> \n",
    "pull(count) |>\n",
    "sum()\n",
    "\n",
    "\n",
    "percentage_correct <- mutate (accuracy_predictions_by_class , percentage = count / total_count * 100)\n",
    "\n",
    "percentage_correct\n",
    "\n"
   ]
  },
  {
   "cell_type": "code",
   "execution_count": null,
   "id": "a37be4af-2e63-495b-aed8-4d09675e927a",
   "metadata": {},
   "outputs": [],
   "source": []
  },
  {
   "cell_type": "markdown",
   "id": "adf529e4-6192-4744-99e8-3912a5781850",
   "metadata": {},
   "source": [
    "### Visualisation of Results"
   ]
  },
  {
   "cell_type": "code",
   "execution_count": 32,
   "id": "e4f19974-f7ba-4967-b2f2-71dc0f939169",
   "metadata": {},
   "outputs": [
    {
     "data": {
      "image/png": "[encoded data removed]",
      "text/plain": [
       "plot without title"
      ]
     },
     "metadata": {
      "image/png": {
       "height": 600,
       "width": 600
      }
     },
     "output_type": "display_data"
    }
   ],
   "source": [
    "ggplot(percentage_correct, aes (x = class, y = percentage)) + \n",
    "geom_bar (stat = \"identity\", fill = \"darkblue\") +\n",
    "labs (x = \"Class\", y = \"Percentage of Predictions Correct (%)\") + \n",
    "ggtitle (\"Percentage of Correct Predictions per Class\") + \n",
    "theme(text = element_text(size = 20))"
   ]
  },
  {
   "cell_type": "code",
   "execution_count": null,
   "id": "875d4b8e-2299-4cac-9647-661bcbb56863",
   "metadata": {},
   "outputs": [],
   "source": []
  },
  {
   "cell_type": "code",
   "execution_count": null,
   "id": "9999d209-ec5d-4d15-8fed-6a049495ca67",
   "metadata": {},
   "outputs": [],
   "source": []
  }
 ],
 "metadata": {
  "kernelspec": {
   "display_name": "R",
   "language": "R",
   "name": "ir"
  },
  "language_info": {
   "codemirror_mode": "r",
   "file_extension": ".r",
   "mimetype": "text/x-r-source",
   "name": "R",
   "pygments_lexer": "r",
   "version": "4.1.3"
  }
 },
 "nbformat": 4,
 "nbformat_minor": 5
}
